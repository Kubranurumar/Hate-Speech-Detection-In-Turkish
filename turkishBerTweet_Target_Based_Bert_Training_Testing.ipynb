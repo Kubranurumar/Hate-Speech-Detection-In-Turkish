{
  "nbformat": 4,
  "nbformat_minor": 0,
  "metadata": {
    "colab": {
      "provenance": [],
      "gpuType": "T4"
    },
    "kernelspec": {
      "name": "python3",
      "display_name": "Python 3"
    },
    "language_info": {
      "name": "python"
    },
    "accelerator": "GPU"
  },
  "cells": [
    {
      "cell_type": "markdown",
      "source": [
        "# **Libraries**"
      ],
      "metadata": {
        "id": "viizBttpAC2T"
      }
    },
    {
      "cell_type": "code",
      "execution_count": null,
      "metadata": {
        "id": "7ERHQLk6-NR7"
      },
      "outputs": [],
      "source": [
        "import pandas as pd\n",
        "import numpy as np\n",
        "import matplotlib.pyplot as plt\n",
        "from sklearn.model_selection import train_test_split\n",
        "from sklearn.feature_extraction.text import CountVectorizer\n",
        "from sklearn.naive_bayes import MultinomialNB\n",
        "from sklearn.linear_model import LogisticRegression\n",
        "from sklearn.metrics import classification_report, confusion_matrix\n",
        "from transformers import BertTokenizer, BertForSequenceClassification, Trainer, TrainingArguments\n",
        "import torch\n",
        "import seaborn as sns"
      ]
    },
    {
      "cell_type": "markdown",
      "source": [
        "# **Data Visualization**"
      ],
      "metadata": {
        "id": "SBR8GtCVAHiP"
      }
    },
    {
      "cell_type": "code",
      "source": [
        "# Verileri yükle\n",
        "targets = pd.read_csv('/content/drive/MyDrive/Yapay Zeka/Third Year/yaz/bil471 veri seti/target based/all_targets/target_all_other.csv')\n",
        "# Nefret içeren ve içermeyen tweet'lerin sayısını görselleştir\n",
        "plt.figure(figsize=(8, 6))\n",
        "ax = sns.countplot(x='label', data=targets)\n",
        "ax.set_title('Tweet Dağılımı')\n",
        "ax.set_xlabel('Kategori')\n",
        "ax.set_ylabel('Tweet Sayısı')\n",
        "plt.xticks([0, 1,2,3,4], ['Gender', 'Homophobic','Religious','Ethnic','Other'])  # Etiket isimlerini belirtiniz\n",
        "plt.show()"
      ],
      "metadata": {
        "colab": {
          "base_uri": "https://localhost:8080/",
          "height": 564
        },
        "id": "7ImHeztPARCf",
        "outputId": "9279739b-e894-48ec-e3d6-505a6fa83fc5"
      },
      "execution_count": null,
      "outputs": [
        {
          "output_type": "display_data",
          "data": {
            "text/plain": [
              "<Figure size 800x600 with 1 Axes>"
            ],
            "image/png": "[encoded data removed]"
          },
          "metadata": {}
        }
      ]
    },
    {
      "cell_type": "markdown",
      "source": [
        "# **Normalization**"
      ],
      "metadata": {
        "id": "WtswchjBBdHd"
      }
    },
    {
      "cell_type": "code",
      "source": [
        "from sklearn.feature_extraction.text import CountVectorizer\n",
        "import seaborn as sns\n",
        "import pandas as pd\n",
        "from nltk.corpus import stopwords\n",
        "# nltk kütüphanesinden Türkçe stop words yükleyelim\n",
        "import nltk\n",
        "\n",
        "def frekans(label,name):\n",
        "    nltk.download('stopwords')\n",
        "    turkish_stopwords = stopwords.words('turkish')\n",
        "\n",
        "    # Nefret içeren tweet'leri filtrele\n",
        "    nefret_tweets = targets[targets['label'] == label]['text']\n",
        "\n",
        "    # En sık geçen kelimeleri say (Türkçe stop words ile)\n",
        "    vectorizer = CountVectorizer(stop_words=turkish_stopwords, max_features=10)\n",
        "    nefret_counts = vectorizer.fit_transform(nefret_tweets)\n",
        "    sum_words = nefret_counts.sum(axis=0)\n",
        "    words_freq = [(word, sum_words[0, idx]) for word, idx in vectorizer.vocabulary_.items()]\n",
        "    words_freq = sorted(words_freq, key=lambda x: x[1], reverse=True)\n",
        "\n",
        "    # Kelime frekanslarını çubuk grafikte göster\n",
        "    words_df = pd.DataFrame(words_freq, columns=['word', 'count'])\n",
        "    plt.figure(figsize=(10, 6))\n",
        "    sns.barplot(x='count', y='word', data=words_df)\n",
        "    plt.title(f'{name} nefretinde En Sık Geçen Kelimeler')\n",
        "    plt.xlabel('Sayı')\n",
        "    plt.ylabel('Kelime')\n",
        "    plt.show()\n"
      ],
      "metadata": {
        "id": "fmVHx2xTBRlO"
      },
      "execution_count": null,
      "outputs": []
    },
    {
      "cell_type": "code",
      "source": [
        "import re\n",
        "\n",
        "def normalize_text(text):\n",
        "    #Kullanıcı adlarını kaldırır\n",
        "    #text = re.sub(r'([@][A-Za-z0-9_]+)|(\\w+:\\/\\/\\S+)','', text)\n",
        "\n",
        "    text = re.sub(r'@\\w+', '', text)\n",
        "    # Tüm harfleri küçük harfe çevir (uncased model kullanılıyorsa)\n",
        "    text = text.lower()\n",
        "\n",
        "    # URL'leri kaldır\n",
        "    text = re.sub(r'http\\S+|www\\S+|https\\S+', '', text, flags=re.MULTILINE)\n",
        "\n",
        "    # HTML etiketlerini kaldır\n",
        "    text = re.sub(r'<.*?>', '', text)\n",
        "\n",
        "    # Noktalama işaretleri dışındaki özel karakterleri kaldır\n",
        "    text = re.sub(r'[^a-zA-Z0-9ığüşöçİĞÜŞÖÇ\\s]', '', text)\n",
        "\n",
        "    # Ekstra boşlukları kaldır\n",
        "    text = re.sub(r'\\s+', ' ', text).strip()\n",
        "\n",
        "\n",
        "    #Remove emojis\n",
        "    emoji_pattern = re.compile(\"[\"\n",
        "        u\"\\U0001F600-\\U0001F64F\"  # emoticons\n",
        "        u\"\\U0001F300-\\U0001F5FF\"  # symbols & pictographs\n",
        "        u\"\\U0001F680-\\U0001F6FF\"  # transport & map symbols\n",
        "        u\"\\U0001F1E0-\\U0001F1FF\"  # flags (iOS)\n",
        "        u\"\\U00002500-\\U00002BEF\"  # chinese char\n",
        "        u\"\\U00002702-\\U000027B0\"\n",
        "        u\"\\U00002702-\\U000027B0\"\n",
        "        u\"\\U000024C2-\\U0001F251\"\n",
        "        u\"\\U0001f926-\\U0001f937\"\n",
        "        u\"\\U00010000-\\U0010ffff\"\n",
        "        u\"\\u2640-\\u2642\"\n",
        "        u\"\\u2600-\\u2B55\"\n",
        "        u\"\\u200d\"\n",
        "        u\"\\u23cf\"\n",
        "        u\"\\u23e9\"\n",
        "        u\"\\u231a\"\n",
        "        u\"\\ufe0f\"  # dingbats\n",
        "        u\"\\u3030\"\n",
        "                      \"]+\", re.UNICODE)\n",
        "    emoji_pattern.sub(r' ', text)\n",
        "\n",
        "    return text\n",
        "targets['text'] = targets['text'].apply(normalize_text)\n",
        "frekans(0,'Gender')\n",
        "frekans(1,'Homophobic')\n",
        "frekans(2,'Religious')\n",
        "frekans(3,'Ethnic')\n",
        "frekans(4,'Other')"
      ],
      "metadata": {
        "colab": {
          "base_uri": "https://localhost:8080/",
          "height": 1000
        },
        "id": "wqNdUc7bBgdb",
        "outputId": "3b4caeff-d59b-40df-c31b-2f0725f18840"
      },
      "execution_count": null,
      "outputs": [
        {
          "output_type": "stream",
          "name": "stderr",
          "text": [
            "[nltk_data] Downloading package stopwords to /root/nltk_data...\n",
            "[nltk_data]   Unzipping corpora/stopwords.zip.\n"
          ]
        },
        {
          "output_type": "display_data",
          "data": {
            "text/plain": [
              "<Figure size 1000x600 with 1 Axes>"
            ],
            "image/png": "[encoded data removed]"
          },
          "metadata": {}
        },
        {
          "output_type": "stream",
          "name": "stderr",
          "text": [
            "[nltk_data] Downloading package stopwords to /root/nltk_data...\n",
            "[nltk_data]   Package stopwords is already up-to-date!\n"
          ]
        },
        {
          "output_type": "display_data",
          "data": {
            "text/plain": [
              "<Figure size 1000x600 with 1 Axes>"
            ],
            "image/png": "[encoded data removed]"
          },
          "metadata": {}
        },
        {
          "output_type": "stream",
          "name": "stderr",
          "text": [
            "[nltk_data] Downloading package stopwords to /root/nltk_data...\n",
            "[nltk_data]   Package stopwords is already up-to-date!\n"
          ]
        },
        {
          "output_type": "display_data",
          "data": {
            "text/plain": [
              "<Figure size 1000x600 with 1 Axes>"
            ],
            "image/png": "[encoded data removed]"
          },
          "metadata": {}
        },
        {
          "output_type": "stream",
          "name": "stderr",
          "text": [
            "[nltk_data] Downloading package stopwords to /root/nltk_data...\n",
            "[nltk_data]   Package stopwords is already up-to-date!\n"
          ]
        },
        {
          "output_type": "display_data",
          "data": {
            "text/plain": [
              "<Figure size 1000x600 with 1 Axes>"
            ],
            "image/png": "[encoded data removed]"
          },
          "metadata": {}
        },
        {
          "output_type": "stream",
          "name": "stderr",
          "text": [
            "[nltk_data] Downloading package stopwords to /root/nltk_data...\n",
            "[nltk_data]   Package stopwords is already up-to-date!\n"
          ]
        },
        {
          "output_type": "display_data",
          "data": {
            "text/plain": [
              "<Figure size 1000x600 with 1 Axes>"
            ],
            "image/png": "[encoded data removed]"
          },
          "metadata": {}
        }
      ]
    },
    {
      "cell_type": "markdown",
      "source": [
        "# **Splitting Data Into Train, Test, Val**"
      ],
      "metadata": {
        "id": "inLEVecZDpoE"
      }
    },
    {
      "cell_type": "code",
      "source": [
        "targets = targets.sample(frac=1, random_state=42).reset_index(drop=True)\n",
        "# Veriyi eğitim, doğrulama ve test setlerine bölün\n",
        "train_data, temp_data = train_test_split(targets, test_size=0.2, random_state=42)\n",
        "val_data, test_data = train_test_split(temp_data, test_size=0.5, random_state=42)"
      ],
      "metadata": {
        "id": "0nQtHMugDvnA"
      },
      "execution_count": null,
      "outputs": []
    },
    {
      "cell_type": "code",
      "source": [
        "X_train=train_data['text']\n",
        "y_train=train_data['label']\n",
        "X_val=val_data['text']\n",
        "y_val=val_data['label']\n",
        "X_test = test_data['text']\n",
        "y_test = test_data['label']"
      ],
      "metadata": {
        "id": "k4OnA-Z4ECp9"
      },
      "execution_count": null,
      "outputs": []
    },
    {
      "cell_type": "markdown",
      "source": [
        "# **Load Model and Tokenizer**"
      ],
      "metadata": {
        "id": "YAqHc1NlFLe7"
      }
    },
    {
      "cell_type": "code",
      "source": [
        "!pip install preprocess"
      ],
      "metadata": {
        "colab": {
          "base_uri": "https://localhost:8080/"
        },
        "id": "-YKWIU_4ow3T",
        "outputId": "8bae480b-15cb-4386-f38c-850262ad99ab"
      },
      "execution_count": null,
      "outputs": [
        {
          "output_type": "stream",
          "name": "stdout",
          "text": [
            "Collecting preprocess\n",
            "  Downloading preprocess-2.0.0-py3-none-any.whl.metadata (1.5 kB)\n",
            "Requirement already satisfied: future in /usr/local/lib/python3.10/dist-packages (from preprocess) (1.0.0)\n",
            "Downloading preprocess-2.0.0-py3-none-any.whl (12 kB)\n",
            "Installing collected packages: preprocess\n",
            "Successfully installed preprocess-2.0.0\n"
          ]
        }
      ]
    },
    {
      "cell_type": "code",
      "source": [
        "!git clone git@github.com:ViralLab/TurkishBERTweet.git\n",
        "!cd TurkishBERTweet\n",
        "!python -m venv venv\n",
        "!source venv/bin/activate\n",
        "\n",
        "!pip install torch torchvision torchaudio --index-url https://download.pytorch.org/whl/cu118\n",
        "!pip install peft\n",
        "!pip install transformers"
      ],
      "metadata": {
        "colab": {
          "base_uri": "https://localhost:8080/"
        },
        "id": "7ugmdTnJpIec",
        "outputId": "946dab8b-7dc0-40f3-9a87-1eeb6593447a"
      },
      "execution_count": null,
      "outputs": [
        {
          "output_type": "stream",
          "name": "stdout",
          "text": [
            "Cloning into 'TurkishBERTweet'...\n",
            "Host key verification failed.\r\n",
            "fatal: Could not read from remote repository.\n",
            "\n",
            "Please make sure you have the correct access rights\n",
            "and the repository exists.\n",
            "/bin/bash: line 1: cd: TurkishBERTweet: No such file or directory\n",
            "The virtual environment was not created successfully because ensurepip is not\n",
            "available.  On Debian/Ubuntu systems, you need to install the python3-venv\n",
            "package using the following command.\n",
            "\n",
            "    apt install python3.10-venv\n",
            "\n",
            "You may need to use sudo with that command.  After installing the python3-venv\n",
            "package, recreate your virtual environment.\n",
            "\n",
            "Failing command: /content/venv/bin/python3\n",
            "\n",
            "/bin/bash: line 1: venv/bin/activate: No such file or directory\n",
            "Looking in indexes: https://download.pytorch.org/whl/cu118\n",
            "Requirement already satisfied: torch in /usr/local/lib/python3.10/dist-packages (2.3.1+cu121)\n",
            "Requirement already satisfied: torchvision in /usr/local/lib/python3.10/dist-packages (0.18.1+cu121)\n",
            "Requirement already satisfied: torchaudio in /usr/local/lib/python3.10/dist-packages (2.3.1+cu121)\n",
            "Requirement already satisfied: filelock in /usr/local/lib/python3.10/dist-packages (from torch) (3.15.4)\n",
            "Requirement already satisfied: typing-extensions>=4.8.0 in /usr/local/lib/python3.10/dist-packages (from torch) (4.12.2)\n",
            "Requirement already satisfied: sympy in /usr/local/lib/python3.10/dist-packages (from torch) (1.13.1)\n",
            "Requirement already satisfied: networkx in /usr/local/lib/python3.10/dist-packages (from torch) (3.3)\n",
            "Requirement already satisfied: jinja2 in /usr/local/lib/python3.10/dist-packages (from torch) (3.1.4)\n",
            "Requirement already satisfied: fsspec in /usr/local/lib/python3.10/dist-packages (from torch) (2024.6.1)\n",
            "INFO: pip is looking at multiple versions of torch to determine which version is compatible with other requirements. This could take a while.\n",
            "Collecting torch\n",
            "  Downloading https://download.pytorch.org/whl/cu118/torch-2.4.0%2Bcu118-cp310-cp310-linux_x86_64.whl (857.7 MB)\n",
            "\u001b[2K     \u001b[90m━━━━━━━━━━━━━━━━━━━━━━━━━━━━━━━━━━━━━━━━\u001b[0m \u001b[32m857.7/857.7 MB\u001b[0m \u001b[31m788.5 kB/s\u001b[0m eta \u001b[36m0:00:00\u001b[0m\n",
            "\u001b[?25hCollecting nvidia-cuda-nvrtc-cu11==11.8.89 (from torch)\n",
            "  Downloading https://download.pytorch.org/whl/cu118/nvidia_cuda_nvrtc_cu11-11.8.89-py3-none-manylinux1_x86_64.whl (23.2 MB)\n",
            "\u001b[2K     \u001b[90m━━━━━━━━━━━━━━━━━━━━━━━━━━━━━━━━━━━━━━━━\u001b[0m \u001b[32m23.2/23.2 MB\u001b[0m \u001b[31m53.7 MB/s\u001b[0m eta \u001b[36m0:00:00\u001b[0m\n",
            "\u001b[?25hCollecting nvidia-cuda-runtime-cu11==11.8.89 (from torch)\n",
            "  Downloading https://download.pytorch.org/whl/cu118/nvidia_cuda_runtime_cu11-11.8.89-py3-none-manylinux1_x86_64.whl (875 kB)\n",
            "\u001b[2K     \u001b[90m━━━━━━━━━━━━━━━━━━━━━━━━━━━━━━━━━━━━━━━━\u001b[0m \u001b[32m875.6/875.6 kB\u001b[0m \u001b[31m28.7 MB/s\u001b[0m eta \u001b[36m0:00:00\u001b[0m\n",
            "\u001b[?25hCollecting nvidia-cuda-cupti-cu11==11.8.87 (from torch)\n",
            "  Downloading https://download.pytorch.org/whl/cu118/nvidia_cuda_cupti_cu11-11.8.87-py3-none-manylinux1_x86_64.whl (13.1 MB)\n",
            "\u001b[2K     \u001b[90m━━━━━━━━━━━━━━━━━━━━━━━━━━━━━━━━━━━━━━━━\u001b[0m \u001b[32m13.1/13.1 MB\u001b[0m \u001b[31m68.6 MB/s\u001b[0m eta \u001b[36m0:00:00\u001b[0m\n",
            "\u001b[?25hCollecting nvidia-cudnn-cu11==9.1.0.70 (from torch)\n",
            "  Downloading https://download.pytorch.org/whl/cu118/nvidia_cudnn_cu11-9.1.0.70-py3-none-manylinux2014_x86_64.whl (663.9 MB)\n",
            "\u001b[2K     \u001b[90m━━━━━━━━━━━━━━━━━━━━━━━━━━━━━━━━━━━━━━━━\u001b[0m \u001b[32m663.9/663.9 MB\u001b[0m \u001b[31m2.8 MB/s\u001b[0m eta \u001b[36m0:00:00\u001b[0m\n",
            "\u001b[?25hCollecting nvidia-cublas-cu11==11.11.3.6 (from torch)\n",
            "  Downloading https://download.pytorch.org/whl/cu118/nvidia_cublas_cu11-11.11.3.6-py3-none-manylinux1_x86_64.whl (417.9 MB)\n",
            "\u001b[2K     \u001b[90m━━━━━━━━━━━━━━━━━━━━━━━━━━━━━━━━━━━━━━━━\u001b[0m \u001b[32m417.9/417.9 MB\u001b[0m \u001b[31m2.7 MB/s\u001b[0m eta \u001b[36m0:00:00\u001b[0m\n",
            "\u001b[?25hCollecting nvidia-cufft-cu11==10.9.0.58 (from torch)\n",
            "  Downloading https://download.pytorch.org/whl/cu118/nvidia_cufft_cu11-10.9.0.58-py3-none-manylinux1_x86_64.whl (168.4 MB)\n",
            "\u001b[2K     \u001b[90m━━━━━━━━━━━━━━━━━━━━━━━━━━━━━━━━━━━━━━━━\u001b[0m \u001b[32m168.4/168.4 MB\u001b[0m \u001b[31m6.0 MB/s\u001b[0m eta \u001b[36m0:00:00\u001b[0m\n",
            "\u001b[?25hCollecting nvidia-curand-cu11==10.3.0.86 (from torch)\n",
            "  Downloading https://download.pytorch.org/whl/cu118/nvidia_curand_cu11-10.3.0.86-py3-none-manylinux1_x86_64.whl (58.1 MB)\n",
            "\u001b[2K     \u001b[90m━━━━━━━━━━━━━━━━━━━━━━━━━━━━━━━━━━━━━━━━\u001b[0m \u001b[32m58.1/58.1 MB\u001b[0m \u001b[31m13.8 MB/s\u001b[0m eta \u001b[36m0:00:00\u001b[0m\n",
            "\u001b[?25hCollecting nvidia-cusolver-cu11==11.4.1.48 (from torch)\n",
            "  Downloading https://download.pytorch.org/whl/cu118/nvidia_cusolver_cu11-11.4.1.48-py3-none-manylinux1_x86_64.whl (128.2 MB)\n",
            "\u001b[2K     \u001b[90m━━━━━━━━━━━━━━━━━━━━━━━━━━━━━━━━━━━━━━━━\u001b[0m \u001b[32m128.2/128.2 MB\u001b[0m \u001b[31m7.5 MB/s\u001b[0m eta \u001b[36m0:00:00\u001b[0m\n",
            "\u001b[?25hCollecting nvidia-cusparse-cu11==11.7.5.86 (from torch)\n",
            "  Downloading https://download.pytorch.org/whl/cu118/nvidia_cusparse_cu11-11.7.5.86-py3-none-manylinux1_x86_64.whl (204.1 MB)\n",
            "\u001b[2K     \u001b[90m━━━━━━━━━━━━━━━━━━━━━━━━━━━━━━━━━━━━━━━━\u001b[0m \u001b[32m204.1/204.1 MB\u001b[0m \u001b[31m6.5 MB/s\u001b[0m eta \u001b[36m0:00:00\u001b[0m\n",
            "\u001b[?25hCollecting nvidia-nccl-cu11==2.20.5 (from torch)\n",
            "  Downloading https://download.pytorch.org/whl/cu118/nvidia_nccl_cu11-2.20.5-py3-none-manylinux2014_x86_64.whl (142.9 MB)\n",
            "\u001b[2K     \u001b[90m━━━━━━━━━━━━━━━━━━━━━━━━━━━━━━━━━━━━━━━━\u001b[0m \u001b[32m142.9/142.9 MB\u001b[0m \u001b[31m6.5 MB/s\u001b[0m eta \u001b[36m0:00:00\u001b[0m\n",
            "\u001b[?25hCollecting nvidia-nvtx-cu11==11.8.86 (from torch)\n",
            "  Downloading https://download.pytorch.org/whl/cu118/nvidia_nvtx_cu11-11.8.86-py3-none-manylinux1_x86_64.whl (99 kB)\n",
            "\u001b[2K     \u001b[90m━━━━━━━━━━━━━━━━━━━━━━━━━━━━━━━━━━━━━━━━\u001b[0m \u001b[32m99.1/99.1 kB\u001b[0m \u001b[31m6.1 MB/s\u001b[0m eta \u001b[36m0:00:00\u001b[0m\n",
            "\u001b[?25hCollecting triton==3.0.0 (from torch)\n",
            "  Downloading https://download.pytorch.org/whl/triton-3.0.0-1-cp310-cp310-manylinux2014_x86_64.manylinux_2_17_x86_64.whl (209.4 MB)\n",
            "\u001b[2K     \u001b[90m━━━━━━━━━━━━━━━━━━━━━━━━━━━━━━━━━━━━━━━━\u001b[0m \u001b[32m209.4/209.4 MB\u001b[0m \u001b[31m5.2 MB/s\u001b[0m eta \u001b[36m0:00:00\u001b[0m\n",
            "\u001b[?25hRequirement already satisfied: numpy in /usr/local/lib/python3.10/dist-packages (from torchvision) (1.25.2)\n",
            "Requirement already satisfied: pillow!=8.3.*,>=5.3.0 in /usr/local/lib/python3.10/dist-packages (from torchvision) (9.4.0)\n",
            "Collecting torch\n",
            "  Downloading https://download.pytorch.org/whl/cu118/torch-2.3.1%2Bcu118-cp310-cp310-linux_x86_64.whl (839.7 MB)\n",
            "\u001b[2K     \u001b[90m━━━━━━━━━━━━━━━━━━━━━━━━━━━━━━━━━━━━━━━━\u001b[0m \u001b[32m839.7/839.7 MB\u001b[0m \u001b[31m1.0 MB/s\u001b[0m eta \u001b[36m0:00:00\u001b[0m\n",
            "\u001b[?25hCollecting nvidia-cudnn-cu11==8.7.0.84 (from torch)\n",
            "  Downloading https://download.pytorch.org/whl/cu118/nvidia_cudnn_cu11-8.7.0.84-py3-none-manylinux1_x86_64.whl (728.5 MB)\n",
            "\u001b[2K     \u001b[90m━━━━━━━━━━━━━━━━━━━━━━━━━━━━━━━━━━━━━━━━\u001b[0m \u001b[32m728.5/728.5 MB\u001b[0m \u001b[31m2.3 MB/s\u001b[0m eta \u001b[36m0:00:00\u001b[0m\n",
            "\u001b[?25hRequirement already satisfied: triton==2.3.1 in /usr/local/lib/python3.10/dist-packages (from torch) (2.3.1)\n",
            "Requirement already satisfied: MarkupSafe>=2.0 in /usr/local/lib/python3.10/dist-packages (from jinja2->torch) (2.1.5)\n",
            "Requirement already satisfied: mpmath<1.4,>=1.1.0 in /usr/local/lib/python3.10/dist-packages (from sympy->torch) (1.3.0)\n",
            "Installing collected packages: nvidia-nvtx-cu11, nvidia-nccl-cu11, nvidia-cusparse-cu11, nvidia-curand-cu11, nvidia-cufft-cu11, nvidia-cuda-runtime-cu11, nvidia-cuda-nvrtc-cu11, nvidia-cuda-cupti-cu11, nvidia-cublas-cu11, nvidia-cusolver-cu11, nvidia-cudnn-cu11, torch\n",
            "  Attempting uninstall: torch\n",
            "    Found existing installation: torch 2.3.1+cu121\n",
            "    Uninstalling torch-2.3.1+cu121:\n",
            "      Successfully uninstalled torch-2.3.1+cu121\n",
            "Successfully installed nvidia-cublas-cu11-11.11.3.6 nvidia-cuda-cupti-cu11-11.8.87 nvidia-cuda-nvrtc-cu11-11.8.89 nvidia-cuda-runtime-cu11-11.8.89 nvidia-cudnn-cu11-8.7.0.84 nvidia-cufft-cu11-10.9.0.58 nvidia-curand-cu11-10.3.0.86 nvidia-cusolver-cu11-11.4.1.48 nvidia-cusparse-cu11-11.7.5.86 nvidia-nccl-cu11-2.20.5 nvidia-nvtx-cu11-11.8.86 torch-2.3.1+cu118\n",
            "Collecting peft\n",
            "  Downloading peft-0.12.0-py3-none-any.whl.metadata (13 kB)\n",
            "Requirement already satisfied: numpy>=1.17 in /usr/local/lib/python3.10/dist-packages (from peft) (1.25.2)\n",
            "Requirement already satisfied: packaging>=20.0 in /usr/local/lib/python3.10/dist-packages (from peft) (24.1)\n",
            "Requirement already satisfied: psutil in /usr/local/lib/python3.10/dist-packages (from peft) (5.9.5)\n",
            "Requirement already satisfied: pyyaml in /usr/local/lib/python3.10/dist-packages (from peft) (6.0.1)\n",
            "Requirement already satisfied: torch>=1.13.0 in /usr/local/lib/python3.10/dist-packages (from peft) (2.3.1+cu118)\n",
            "Requirement already satisfied: transformers in /usr/local/lib/python3.10/dist-packages (from peft) (4.42.4)\n",
            "Requirement already satisfied: tqdm in /usr/local/lib/python3.10/dist-packages (from peft) (4.66.4)\n",
            "Requirement already satisfied: accelerate>=0.21.0 in /usr/local/lib/python3.10/dist-packages (from peft) (0.32.1)\n",
            "Requirement already satisfied: safetensors in /usr/local/lib/python3.10/dist-packages (from peft) (0.4.3)\n",
            "Requirement already satisfied: huggingface-hub>=0.17.0 in /usr/local/lib/python3.10/dist-packages (from peft) (0.23.5)\n",
            "Requirement already satisfied: filelock in /usr/local/lib/python3.10/dist-packages (from huggingface-hub>=0.17.0->peft) (3.15.4)\n",
            "Requirement already satisfied: fsspec>=2023.5.0 in /usr/local/lib/python3.10/dist-packages (from huggingface-hub>=0.17.0->peft) (2024.6.1)\n",
            "Requirement already satisfied: requests in /usr/local/lib/python3.10/dist-packages (from huggingface-hub>=0.17.0->peft) (2.31.0)\n",
            "Requirement already satisfied: typing-extensions>=3.7.4.3 in /usr/local/lib/python3.10/dist-packages (from huggingface-hub>=0.17.0->peft) (4.12.2)\n",
            "Requirement already satisfied: sympy in /usr/local/lib/python3.10/dist-packages (from torch>=1.13.0->peft) (1.13.1)\n",
            "Requirement already satisfied: networkx in /usr/local/lib/python3.10/dist-packages (from torch>=1.13.0->peft) (3.3)\n",
            "Requirement already satisfied: jinja2 in /usr/local/lib/python3.10/dist-packages (from torch>=1.13.0->peft) (3.1.4)\n",
            "Requirement already satisfied: nvidia-cuda-nvrtc-cu11==11.8.89 in /usr/local/lib/python3.10/dist-packages (from torch>=1.13.0->peft) (11.8.89)\n",
            "Requirement already satisfied: nvidia-cuda-runtime-cu11==11.8.89 in /usr/local/lib/python3.10/dist-packages (from torch>=1.13.0->peft) (11.8.89)\n",
            "Requirement already satisfied: nvidia-cuda-cupti-cu11==11.8.87 in /usr/local/lib/python3.10/dist-packages (from torch>=1.13.0->peft) (11.8.87)\n",
            "Requirement already satisfied: nvidia-cudnn-cu11==8.7.0.84 in /usr/local/lib/python3.10/dist-packages (from torch>=1.13.0->peft) (8.7.0.84)\n",
            "Requirement already satisfied: nvidia-cublas-cu11==11.11.3.6 in /usr/local/lib/python3.10/dist-packages (from torch>=1.13.0->peft) (11.11.3.6)\n",
            "Requirement already satisfied: nvidia-cufft-cu11==10.9.0.58 in /usr/local/lib/python3.10/dist-packages (from torch>=1.13.0->peft) (10.9.0.58)\n",
            "Requirement already satisfied: nvidia-curand-cu11==10.3.0.86 in /usr/local/lib/python3.10/dist-packages (from torch>=1.13.0->peft) (10.3.0.86)\n",
            "Requirement already satisfied: nvidia-cusolver-cu11==11.4.1.48 in /usr/local/lib/python3.10/dist-packages (from torch>=1.13.0->peft) (11.4.1.48)\n",
            "Requirement already satisfied: nvidia-cusparse-cu11==11.7.5.86 in /usr/local/lib/python3.10/dist-packages (from torch>=1.13.0->peft) (11.7.5.86)\n",
            "Requirement already satisfied: nvidia-nccl-cu11==2.20.5 in /usr/local/lib/python3.10/dist-packages (from torch>=1.13.0->peft) (2.20.5)\n",
            "Requirement already satisfied: nvidia-nvtx-cu11==11.8.86 in /usr/local/lib/python3.10/dist-packages (from torch>=1.13.0->peft) (11.8.86)\n",
            "Requirement already satisfied: triton==2.3.1 in /usr/local/lib/python3.10/dist-packages (from torch>=1.13.0->peft) (2.3.1)\n",
            "Requirement already satisfied: regex!=2019.12.17 in /usr/local/lib/python3.10/dist-packages (from transformers->peft) (2024.5.15)\n",
            "Requirement already satisfied: tokenizers<0.20,>=0.19 in /usr/local/lib/python3.10/dist-packages (from transformers->peft) (0.19.1)\n",
            "Requirement already satisfied: MarkupSafe>=2.0 in /usr/local/lib/python3.10/dist-packages (from jinja2->torch>=1.13.0->peft) (2.1.5)\n",
            "Requirement already satisfied: charset-normalizer<4,>=2 in /usr/local/lib/python3.10/dist-packages (from requests->huggingface-hub>=0.17.0->peft) (3.3.2)\n",
            "Requirement already satisfied: idna<4,>=2.5 in /usr/local/lib/python3.10/dist-packages (from requests->huggingface-hub>=0.17.0->peft) (3.7)\n",
            "Requirement already satisfied: urllib3<3,>=1.21.1 in /usr/local/lib/python3.10/dist-packages (from requests->huggingface-hub>=0.17.0->peft) (2.0.7)\n",
            "Requirement already satisfied: certifi>=2017.4.17 in /usr/local/lib/python3.10/dist-packages (from requests->huggingface-hub>=0.17.0->peft) (2024.7.4)\n",
            "Requirement already satisfied: mpmath<1.4,>=1.1.0 in /usr/local/lib/python3.10/dist-packages (from sympy->torch>=1.13.0->peft) (1.3.0)\n",
            "Downloading peft-0.12.0-py3-none-any.whl (296 kB)\n",
            "\u001b[2K   \u001b[90m━━━━━━━━━━━━━━━━━━━━━━━━━━━━━━━━━━━━━━━━\u001b[0m \u001b[32m296.4/296.4 kB\u001b[0m \u001b[31m14.4 MB/s\u001b[0m eta \u001b[36m0:00:00\u001b[0m\n",
            "\u001b[?25hInstalling collected packages: peft\n",
            "Successfully installed peft-0.12.0\n",
            "Requirement already satisfied: transformers in /usr/local/lib/python3.10/dist-packages (4.42.4)\n",
            "Requirement already satisfied: filelock in /usr/local/lib/python3.10/dist-packages (from transformers) (3.15.4)\n",
            "Requirement already satisfied: huggingface-hub<1.0,>=0.23.2 in /usr/local/lib/python3.10/dist-packages (from transformers) (0.23.5)\n",
            "Requirement already satisfied: numpy<2.0,>=1.17 in /usr/local/lib/python3.10/dist-packages (from transformers) (1.25.2)\n",
            "Requirement already satisfied: packaging>=20.0 in /usr/local/lib/python3.10/dist-packages (from transformers) (24.1)\n",
            "Requirement already satisfied: pyyaml>=5.1 in /usr/local/lib/python3.10/dist-packages (from transformers) (6.0.1)\n",
            "Requirement already satisfied: regex!=2019.12.17 in /usr/local/lib/python3.10/dist-packages (from transformers) (2024.5.15)\n",
            "Requirement already satisfied: requests in /usr/local/lib/python3.10/dist-packages (from transformers) (2.31.0)\n",
            "Requirement already satisfied: safetensors>=0.4.1 in /usr/local/lib/python3.10/dist-packages (from transformers) (0.4.3)\n",
            "Requirement already satisfied: tokenizers<0.20,>=0.19 in /usr/local/lib/python3.10/dist-packages (from transformers) (0.19.1)\n",
            "Requirement already satisfied: tqdm>=4.27 in /usr/local/lib/python3.10/dist-packages (from transformers) (4.66.4)\n",
            "Requirement already satisfied: fsspec>=2023.5.0 in /usr/local/lib/python3.10/dist-packages (from huggingface-hub<1.0,>=0.23.2->transformers) (2024.6.1)\n",
            "Requirement already satisfied: typing-extensions>=3.7.4.3 in /usr/local/lib/python3.10/dist-packages (from huggingface-hub<1.0,>=0.23.2->transformers) (4.12.2)\n",
            "Requirement already satisfied: charset-normalizer<4,>=2 in /usr/local/lib/python3.10/dist-packages (from requests->transformers) (3.3.2)\n",
            "Requirement already satisfied: idna<4,>=2.5 in /usr/local/lib/python3.10/dist-packages (from requests->transformers) (3.7)\n",
            "Requirement already satisfied: urllib3<3,>=1.21.1 in /usr/local/lib/python3.10/dist-packages (from requests->transformers) (2.0.7)\n",
            "Requirement already satisfied: certifi>=2017.4.17 in /usr/local/lib/python3.10/dist-packages (from requests->transformers) (2024.7.4)\n"
          ]
        }
      ]
    },
    {
      "cell_type": "code",
      "source": [
        "from peft import (\n",
        "    PeftModel,\n",
        "    PeftConfig,\n",
        ")\n",
        "\n",
        "from transformers import (\n",
        "    AutoModelForSequenceClassification,\n",
        "    AutoTokenizer)\n",
        "import preprocess\n",
        "\n",
        "\n",
        "peft_model = \"VRLLab/TurkishBERTweet-Lora-HS\"\n",
        "peft_config = PeftConfig.from_pretrained(peft_model)\n",
        "\n",
        "# loading Tokenizer\n",
        "padding_side = \"right\"\n",
        "tokenizer = AutoTokenizer.from_pretrained(\n",
        "    peft_config.base_model_name_or_path, padding_side=padding_side\n",
        ")\n",
        "if getattr(tokenizer, \"pad_token_id\") is None:\n",
        "    tokenizer.pad_token_id = tokenizer.eos_token_id\n",
        "\n",
        "id2label_hs = {0: \"Gender\", 1: \"Homophobic\", 2: \"Religious\", 3: \"Ethnic\",4:'Other'}\n",
        "turkishBERTweet_hs = AutoModelForSequenceClassification.from_pretrained(\n",
        "    peft_config.base_model_name_or_path, return_dict=True, num_labels=len(id2label_hs), id2label=id2label_hs\n",
        ")\n",
        "#turkishBERTweet_hs = PeftModel.from_pretrained(turkishBERTweet_hs, peft_model)\n",
        "\n",
        "# Tokenizasyon ve veri kümesini işleyin\n",
        "def tokenize_function(tweets):\n",
        "    return tokenizer(tweets, padding='max_length', truncation=True)\n",
        "\n",
        "train_encodings = tokenize_function(X_train.tolist())\n",
        "val_encodings = tokenize_function(X_val.tolist())\n",
        "test_encodings = tokenize_function(X_test.tolist())"
      ],
      "metadata": {
        "colab": {
          "base_uri": "https://localhost:8080/"
        },
        "id": "JkQYZkPRFH4D",
        "outputId": "92cb7a93-ed5c-47ba-85e3-810467c9832d"
      },
      "execution_count": null,
      "outputs": [
        {
          "output_type": "stream",
          "name": "stderr",
          "text": [
            "Some weights of RobertaForSequenceClassification were not initialized from the model checkpoint at VRLLab/TurkishBERTweet and are newly initialized: ['classifier.dense.bias', 'classifier.dense.weight', 'classifier.out_proj.bias', 'classifier.out_proj.weight']\n",
            "You should probably TRAIN this model on a down-stream task to be able to use it for predictions and inference.\n",
            "Asking to pad to max_length but no maximum length is provided and the model has no predefined maximum length. Default to no padding.\n",
            "Asking to truncate to max_length but no maximum length is provided and the model has no predefined maximum length. Default to no truncation.\n"
          ]
        }
      ]
    },
    {
      "cell_type": "markdown",
      "source": [
        "# **Set Training Parameters and Start Training**"
      ],
      "metadata": {
        "id": "B3un8qihFZn2"
      }
    },
    {
      "cell_type": "code",
      "source": [
        "# PyTorch veri setlerini hazırla\n",
        "class TweetDataset(torch.utils.data.Dataset):\n",
        "    def __init__(self, encodings, labels):\n",
        "        self.encodings = encodings\n",
        "        self.labels = labels\n",
        "\n",
        "    def __getitem__(self, idx):\n",
        "        item = {key: torch.tensor(val[idx]) for key, val in self.encodings.items()}\n",
        "        item['labels'] = torch.tensor(self.labels[idx])\n",
        "        return item\n",
        "\n",
        "    def __len__(self):\n",
        "        return len(self.labels)\n",
        "from sklearn.metrics import accuracy_score, f1_score, precision_score, recall_score\n",
        "# Define the compute_metrics function\n",
        "def compute_metrics(p):\n",
        "    pred, labels = p\n",
        "    pred = np.argmax(pred, axis=1)\n",
        "    accuracy = accuracy_score(labels, pred)\n",
        "    f1 = f1_score(labels, pred, average='weighted')\n",
        "    precision = precision_score(labels, pred, average='weighted')\n",
        "    recall = recall_score(labels, pred, average='weighted')\n",
        "    return {\"accuracy\": accuracy, \"f1\": f1, \"precision\": precision, \"recall\": recall}\n",
        "\n",
        "# Pad the sequences to the same length\n",
        "def pad_sequences(encodings):\n",
        "    max_length = max([len(x) for x in encodings['input_ids']])\n",
        "    padded_encodings = tokenizer.pad(encodings, padding='max_length', max_length=max_length, return_tensors='pt')\n",
        "    return padded_encodings\n",
        "\n",
        "train_encodings = pad_sequences(train_encodings)\n",
        "val_encodings = pad_sequences(val_encodings)\n",
        "test_encodings = pad_sequences(test_encodings)\n",
        "\n",
        "train_dataset = TweetDataset(train_encodings, y_train.tolist())\n",
        "val_dataset = TweetDataset(val_encodings, y_val.tolist())\n",
        "# Check and set device\n",
        "device = torch.device(\"cuda\" if torch.cuda.is_available() else \"cpu\")\n",
        "print(device)\n",
        "turkishBERTweet_hs.to(device)\n",
        "# Eğitim argümanlarını ayarla\n",
        "training_args = TrainingArguments(\n",
        "    output_dir='./results',\n",
        "    num_train_epochs=3,\n",
        "    per_device_train_batch_size=16,\n",
        "    per_device_eval_batch_size=16,\n",
        "    warmup_steps=50,\n",
        "    weight_decay=0.01,\n",
        "    logging_dir='./logs',\n",
        "    evaluation_strategy='epoch',\n",
        "    save_strategy='epoch',\n",
        "    load_best_model_at_end=True,\n",
        ")\n",
        "\n",
        "# Trainer'ı kur ve eğitimi başlat\n",
        "trainer = Trainer(\n",
        "    model=turkishBERTweet_hs,\n",
        "    args=training_args,\n",
        "    train_dataset=train_dataset,\n",
        "    eval_dataset=val_dataset,\n",
        "    compute_metrics=compute_metrics\n",
        ")\n",
        "\n",
        "trainer.train()"
      ],
      "metadata": {
        "colab": {
          "base_uri": "https://localhost:8080/",
          "height": 415
        },
        "id": "R5C594eIFeNl",
        "outputId": "cfcd8ad2-4ef5-4fa6-fc05-00e530e20d4c"
      },
      "execution_count": null,
      "outputs": [
        {
          "output_type": "stream",
          "name": "stderr",
          "text": [
            "You're using a RobertaTokenizerFast tokenizer. Please note that with a fast tokenizer, using the `__call__` method is faster than using a method to encode the text followed by a call to the `pad` method to get a padded encoding.\n"
          ]
        },
        {
          "output_type": "stream",
          "name": "stdout",
          "text": [
            "cpu\n"
          ]
        },
        {
          "output_type": "stream",
          "name": "stderr",
          "text": [
            "<ipython-input-19-d95c94ff0219>:8: UserWarning: To copy construct from a tensor, it is recommended to use sourceTensor.clone().detach() or sourceTensor.clone().detach().requires_grad_(True), rather than torch.tensor(sourceTensor).\n",
            "  item = {key: torch.tensor(val[idx]) for key, val in self.encodings.items()}\n"
          ]
        },
        {
          "output_type": "display_data",
          "data": {
            "text/plain": [
              "<IPython.core.display.HTML object>"
            ],
            "text/html": [
              "\n",
              "    <div>\n",
              "      \n",
              "      <progress value='165' max='165' style='width:300px; height:20px; vertical-align: middle;'></progress>\n",
              "      [165/165 35:02, Epoch 3/3]\n",
              "    </div>\n",
              "    <table border=\"1\" class=\"dataframe\">\n",
              "  <thead>\n",
              " <tr style=\"text-align: left;\">\n",
              "      <th>Epoch</th>\n",
              "      <th>Training Loss</th>\n",
              "      <th>Validation Loss</th>\n",
              "      <th>Accuracy</th>\n",
              "      <th>F1</th>\n",
              "      <th>Precision</th>\n",
              "      <th>Recall</th>\n",
              "    </tr>\n",
              "  </thead>\n",
              "  <tbody>\n",
              "    <tr>\n",
              "      <td>1</td>\n",
              "      <td>No log</td>\n",
              "      <td>0.390932</td>\n",
              "      <td>0.861111</td>\n",
              "      <td>0.862275</td>\n",
              "      <td>0.872366</td>\n",
              "      <td>0.861111</td>\n",
              "    </tr>\n",
              "    <tr>\n",
              "      <td>2</td>\n",
              "      <td>No log</td>\n",
              "      <td>0.241910</td>\n",
              "      <td>0.916667</td>\n",
              "      <td>0.915699</td>\n",
              "      <td>0.919197</td>\n",
              "      <td>0.916667</td>\n",
              "    </tr>\n",
              "    <tr>\n",
              "      <td>3</td>\n",
              "      <td>No log</td>\n",
              "      <td>0.303408</td>\n",
              "      <td>0.925926</td>\n",
              "      <td>0.923609</td>\n",
              "      <td>0.930036</td>\n",
              "      <td>0.925926</td>\n",
              "    </tr>\n",
              "  </tbody>\n",
              "</table><p>"
            ]
          },
          "metadata": {}
        },
        {
          "output_type": "stream",
          "name": "stderr",
          "text": [
            "<ipython-input-19-d95c94ff0219>:8: UserWarning: To copy construct from a tensor, it is recommended to use sourceTensor.clone().detach() or sourceTensor.clone().detach().requires_grad_(True), rather than torch.tensor(sourceTensor).\n",
            "  item = {key: torch.tensor(val[idx]) for key, val in self.encodings.items()}\n",
            "<ipython-input-19-d95c94ff0219>:8: UserWarning: To copy construct from a tensor, it is recommended to use sourceTensor.clone().detach() or sourceTensor.clone().detach().requires_grad_(True), rather than torch.tensor(sourceTensor).\n",
            "  item = {key: torch.tensor(val[idx]) for key, val in self.encodings.items()}\n",
            "<ipython-input-19-d95c94ff0219>:8: UserWarning: To copy construct from a tensor, it is recommended to use sourceTensor.clone().detach() or sourceTensor.clone().detach().requires_grad_(True), rather than torch.tensor(sourceTensor).\n",
            "  item = {key: torch.tensor(val[idx]) for key, val in self.encodings.items()}\n"
          ]
        },
        {
          "output_type": "execute_result",
          "data": {
            "text/plain": [
              "TrainOutput(global_step=165, training_loss=0.6597514297022964, metrics={'train_runtime': 2131.2056, 'train_samples_per_second': 1.22, 'train_steps_per_second': 0.077, 'total_flos': 89556268228074.0, 'train_loss': 0.6597514297022964, 'epoch': 3.0})"
            ]
          },
          "metadata": {},
          "execution_count": 19
        }
      ]
    },
    {
      "cell_type": "markdown",
      "source": [
        "# **Testing The Model**"
      ],
      "metadata": {
        "id": "elCfyzUUHNor"
      }
    },
    {
      "cell_type": "code",
      "source": [
        "# Modeli değerlendirin\n",
        "test_dataset = TweetDataset(test_encodings, y_test.tolist())\n",
        "metrics = trainer.evaluate(eval_dataset=test_dataset)\n",
        "metrics"
      ],
      "metadata": {
        "colab": {
          "base_uri": "https://localhost:8080/",
          "height": 248
        },
        "id": "mE4A-ANoHSrV",
        "outputId": "cb8aab01-0b76-42cd-8c6f-3e378f3ac811"
      },
      "execution_count": null,
      "outputs": [
        {
          "output_type": "stream",
          "name": "stderr",
          "text": [
            "<ipython-input-19-d95c94ff0219>:8: UserWarning: To copy construct from a tensor, it is recommended to use sourceTensor.clone().detach() or sourceTensor.clone().detach().requires_grad_(True), rather than torch.tensor(sourceTensor).\n",
            "  item = {key: torch.tensor(val[idx]) for key, val in self.encodings.items()}\n"
          ]
        },
        {
          "output_type": "display_data",
          "data": {
            "text/plain": [
              "<IPython.core.display.HTML object>"
            ],
            "text/html": [
              "\n",
              "    <div>\n",
              "      \n",
              "      <progress value='7' max='7' style='width:300px; height:20px; vertical-align: middle;'></progress>\n",
              "      [7/7 00:15]\n",
              "    </div>\n",
              "    "
            ]
          },
          "metadata": {}
        },
        {
          "output_type": "execute_result",
          "data": {
            "text/plain": [
              "{'eval_loss': 0.4578799605369568,\n",
              " 'eval_accuracy': 0.8715596330275229,\n",
              " 'eval_f1': 0.8714992593343194,\n",
              " 'eval_precision': 0.8806775170430621,\n",
              " 'eval_recall': 0.8715596330275229,\n",
              " 'eval_runtime': 17.5766,\n",
              " 'eval_samples_per_second': 6.201,\n",
              " 'eval_steps_per_second': 0.398,\n",
              " 'epoch': 3.0}"
            ]
          },
          "metadata": {},
          "execution_count": 20
        }
      ]
    },
    {
      "cell_type": "markdown",
      "source": [
        "# **Training with Classic ML Methods**"
      ],
      "metadata": {
        "id": "LEEPDw7ZHqYJ"
      }
    },
    {
      "cell_type": "code",
      "source": [
        "# Veri vektörizasyonu\n",
        "vectorizer = CountVectorizer()\n",
        "X_train_vec = vectorizer.fit_transform(X_train)\n",
        "X_test_vec = vectorizer.transform(X_test)\n",
        "\n",
        "# Naive Bayes modeli\n",
        "nb_model = MultinomialNB()\n",
        "nb_model.fit(X_train_vec, y_train)\n",
        "nb_predictions = nb_model.predict(X_test_vec)\n",
        "\n",
        "# Logistic Regression modeli\n",
        "lr_model = LogisticRegression()\n",
        "lr_model.fit(X_train_vec, y_train)\n",
        "lr_predictions = lr_model.predict(X_test_vec)\n",
        "\n",
        "# Performans metriklerini yazdır\n",
        "print(\"Naive Bayes Classification Report:\")\n",
        "print(classification_report(y_test, nb_predictions))\n",
        "\n",
        "print(\"Logistic Regression Classification Report:\")\n",
        "print(classification_report(y_test, lr_predictions))"
      ],
      "metadata": {
        "colab": {
          "base_uri": "https://localhost:8080/"
        },
        "id": "_hnFSWkEHxMi",
        "outputId": "cf606582-9276-4283-be9e-df53a5fddc4f"
      },
      "execution_count": null,
      "outputs": [
        {
          "output_type": "stream",
          "name": "stdout",
          "text": [
            "Naive Bayes Classification Report:\n",
            "              precision    recall  f1-score   support\n",
            "\n",
            "           0       0.73      0.73      0.73        22\n",
            "           1       0.79      0.83      0.81        18\n",
            "           2       0.61      0.88      0.72        25\n",
            "           3       0.84      0.70      0.76        23\n",
            "           4       0.46      0.29      0.35        21\n",
            "\n",
            "    accuracy                           0.69       109\n",
            "   macro avg       0.69      0.68      0.67       109\n",
            "weighted avg       0.68      0.69      0.67       109\n",
            "\n",
            "Logistic Regression Classification Report:\n",
            "              precision    recall  f1-score   support\n",
            "\n",
            "           0       0.80      0.55      0.65        22\n",
            "           1       0.93      0.72      0.81        18\n",
            "           2       0.86      0.76      0.81        25\n",
            "           3       0.94      0.70      0.80        23\n",
            "           4       0.46      0.90      0.61        21\n",
            "\n",
            "    accuracy                           0.72       109\n",
            "   macro avg       0.80      0.73      0.74       109\n",
            "weighted avg       0.80      0.72      0.74       109\n",
            "\n"
          ]
        }
      ]
    },
    {
      "cell_type": "markdown",
      "source": [
        "# **Save Model**"
      ],
      "metadata": {
        "id": "E7oG2STEPKHk"
      }
    },
    {
      "cell_type": "code",
      "source": [
        "# Modeli eğittikten sonra\n",
        "torch.save(model.state_dict(), 'model.pth')"
      ],
      "metadata": {
        "id": "wn1IfYEMPN8z"
      },
      "execution_count": null,
      "outputs": []
    },
    {
      "cell_type": "code",
      "source": [
        "# Modeli kaydetme\n",
        "turkishBERTweet_hs.save_pretrained('/content/drive/MyDrive/Yapay Zeka/Third Year/yaz/bil471 veri seti/target_based_turkishBerTweeter_model')\n",
        "tokenizer.save_pretrained('/content/drive/MyDrive/Yapay Zeka/Third Year/yaz/bil471 veri seti/target_based_turkishBerTweet_tokenizer')"
      ],
      "metadata": {
        "colab": {
          "base_uri": "https://localhost:8080/"
        },
        "id": "cAkzLgtcR0b0",
        "outputId": "6fbcb32d-2852-4576-b0f0-3bccd213eee5"
      },
      "execution_count": null,
      "outputs": [
        {
          "output_type": "execute_result",
          "data": {
            "text/plain": [
              "('/content/drive/MyDrive/Yapay Zeka/Third Year/yaz/bil471 veri seti/target_based_turkishBerTweet_tokenizer/tokenizer_config.json',\n",
              " '/content/drive/MyDrive/Yapay Zeka/Third Year/yaz/bil471 veri seti/target_based_turkishBerTweet_tokenizer/special_tokens_map.json',\n",
              " '/content/drive/MyDrive/Yapay Zeka/Third Year/yaz/bil471 veri seti/target_based_turkishBerTweet_tokenizer/vocab.json',\n",
              " '/content/drive/MyDrive/Yapay Zeka/Third Year/yaz/bil471 veri seti/target_based_turkishBerTweet_tokenizer/merges.txt',\n",
              " '/content/drive/MyDrive/Yapay Zeka/Third Year/yaz/bil471 veri seti/target_based_turkishBerTweet_tokenizer/added_tokens.json',\n",
              " '/content/drive/MyDrive/Yapay Zeka/Third Year/yaz/bil471 veri seti/target_based_turkishBerTweet_tokenizer/tokenizer.json')"
            ]
          },
          "metadata": {},
          "execution_count": 22
        }
      ]
    },
    {
      "cell_type": "markdown",
      "source": [
        "# **Load Model**"
      ],
      "metadata": {
        "id": "tLHQ8BaqRIwh"
      }
    },
    {
      "cell_type": "code",
      "source": [
        "from transformers import BertTokenizer, BertForSequenceClassification\n",
        "\n",
        "# Model ve tokenizer'ı yükleyin\n",
        "model = BertForSequenceClassification.from_pretrained('/content/drive/MyDrive/Yapay Zeka/Third Year/yaz/bil471 veri seti/target_based_turkishBerTweeter_model')\n",
        "tokenizer = BertTokenizer.from_pretrained('/content/drive/MyDrive/Yapay Zeka/Third Year/yaz/bil471 veri seti/target_based_turkishBerTweet_tokenizer')\n",
        "\n",
        "# Cihaza taşıyın\n",
        "device = torch.device(\"cuda\" if torch.cuda.is_available() else \"cpu\")\n",
        "model.to(device)\n",
        "model.eval()"
      ],
      "metadata": {
        "colab": {
          "base_uri": "https://localhost:8080/"
        },
        "id": "GlJWOIFMRLD4",
        "outputId": "881fb0f0-9479-43cc-abf3-6a75edf8e353"
      },
      "execution_count": null,
      "outputs": [
        {
          "output_type": "execute_result",
          "data": {
            "text/plain": [
              "BertForSequenceClassification(\n",
              "  (bert): BertModel(\n",
              "    (embeddings): BertEmbeddings(\n",
              "      (word_embeddings): Embedding(32000, 768, padding_idx=0)\n",
              "      (position_embeddings): Embedding(512, 768)\n",
              "      (token_type_embeddings): Embedding(2, 768)\n",
              "      (LayerNorm): LayerNorm((768,), eps=1e-12, elementwise_affine=True)\n",
              "      (dropout): Dropout(p=0.1, inplace=False)\n",
              "    )\n",
              "    (encoder): BertEncoder(\n",
              "      (layer): ModuleList(\n",
              "        (0-11): 12 x BertLayer(\n",
              "          (attention): BertAttention(\n",
              "            (self): BertSdpaSelfAttention(\n",
              "              (query): Linear(in_features=768, out_features=768, bias=True)\n",
              "              (key): Linear(in_features=768, out_features=768, bias=True)\n",
              "              (value): Linear(in_features=768, out_features=768, bias=True)\n",
              "              (dropout): Dropout(p=0.1, inplace=False)\n",
              "            )\n",
              "            (output): BertSelfOutput(\n",
              "              (dense): Linear(in_features=768, out_features=768, bias=True)\n",
              "              (LayerNorm): LayerNorm((768,), eps=1e-12, elementwise_affine=True)\n",
              "              (dropout): Dropout(p=0.1, inplace=False)\n",
              "            )\n",
              "          )\n",
              "          (intermediate): BertIntermediate(\n",
              "            (dense): Linear(in_features=768, out_features=3072, bias=True)\n",
              "            (intermediate_act_fn): GELUActivation()\n",
              "          )\n",
              "          (output): BertOutput(\n",
              "            (dense): Linear(in_features=3072, out_features=768, bias=True)\n",
              "            (LayerNorm): LayerNorm((768,), eps=1e-12, elementwise_affine=True)\n",
              "            (dropout): Dropout(p=0.1, inplace=False)\n",
              "          )\n",
              "        )\n",
              "      )\n",
              "    )\n",
              "    (pooler): BertPooler(\n",
              "      (dense): Linear(in_features=768, out_features=768, bias=True)\n",
              "      (activation): Tanh()\n",
              "    )\n",
              "  )\n",
              "  (dropout): Dropout(p=0.1, inplace=False)\n",
              "  (classifier): Linear(in_features=768, out_features=5, bias=True)\n",
              ")"
            ]
          },
          "metadata": {},
          "execution_count": 12
        }
      ]
    },
    {
      "cell_type": "markdown",
      "source": [
        "TEST THE LOADED MODEL WİTH TEST DATASET"
      ],
      "metadata": {
        "id": "X_EBszN9zFdi"
      }
    },
    {
      "cell_type": "code",
      "source": [
        "from torch.utils.data import DataLoader\n",
        "def compute_metrics(preds, labels):\n",
        "    pred = np.array(preds)\n",
        "    labels = np.array(labels)\n",
        "    accuracy = accuracy_score(labels, pred)\n",
        "    f1 = f1_score(labels, pred, average='weighted')\n",
        "    precision = precision_score(labels, pred, average='weighted')\n",
        "    recall = recall_score(labels, pred, average='weighted')\n",
        "    return {\"accuracy\": accuracy, \"f1\": f1, \"precision\": precision, \"recall\": recall}\n",
        "\n",
        "# Modeli değerlendirin\n",
        "test_dataset = TweetDataset(test_encodings, y_test.tolist())\n",
        "test_loader = DataLoader(test_dataset, batch_size=32, shuffle=False)\n",
        "\n",
        "all_preds = []\n",
        "all_labels = []\n",
        "\n",
        "\n",
        "with torch.no_grad():\n",
        "    for batch in test_loader:\n",
        "        input_ids = batch['input_ids'].to(device)\n",
        "        attention_mask = batch['attention_mask'].to(device)\n",
        "        labels = batch['labels'].to(device)\n",
        "\n",
        "        outputs = model(input_ids, attention_mask=attention_mask)\n",
        "        logits = outputs.logits\n",
        "        preds = np.argmax(logits.cpu().numpy(), axis=1)\n",
        "\n",
        "        all_preds.extend(preds)\n",
        "        all_labels.extend(labels.cpu().numpy())\n",
        "\n",
        "metrics = compute_metrics(all_preds, all_labels)\n",
        "print(metrics)"
      ],
      "metadata": {
        "colab": {
          "base_uri": "https://localhost:8080/"
        },
        "id": "w2YkC7P4x7au",
        "outputId": "9ec40ccf-d8db-4483-f8d6-4a37acfa2ac2"
      },
      "execution_count": null,
      "outputs": [
        {
          "output_type": "stream",
          "name": "stdout",
          "text": [
            "{'accuracy': 0.963302752293578, 'f1': 0.9634562415458259, 'precision': 0.9670959774170784, 'recall': 0.963302752293578}\n"
          ]
        }
      ]
    },
    {
      "cell_type": "markdown",
      "source": [
        "# **Test Model**"
      ],
      "metadata": {
        "id": "A3iPrMcHSvRX"
      }
    },
    {
      "cell_type": "code",
      "source": [
        "# Girdi metin\n",
        "text = \"bu lgbtli sapıklar hep bizi buluyor bunlar defolsun gitsin ibneler\"\n",
        "\n",
        "# Tokenize edin\n",
        "inputs = tokenizer(text, return_tensors=\"pt\", padding=True, truncation=True, max_length=512)\n",
        "\n",
        "# Veriyi cihaza taşıyın\n",
        "inputs = {key: val.to(device) for key, val in inputs.items()}\n",
        "\n",
        "# Modeli kullanarak tahmin yapın\n",
        "with torch.no_grad():\n",
        "    outputs = model(**inputs)\n",
        "\n",
        "# Çıktıları işleyin\n",
        "logits = outputs.logits\n",
        "predicted_class_id = torch.argmax(logits, dim=1).item()\n",
        "\n",
        "# Modelin sınıf etiketlerini tanımlayın\n",
        "label_map = {0: \"gender\", 1: \"homophobic\", 2: \"Religious\", 3: \"Ethnic\",4:'Other'}  # Bu haritayı modelinize göre ayarlayın\n",
        "\n",
        "predicted_label = label_map[predicted_class_id]\n",
        "\n",
        "print(f\"Metin: '{text}'\")\n",
        "print(f\"Model Tahmini: {predicted_label}\")"
      ],
      "metadata": {
        "colab": {
          "base_uri": "https://localhost:8080/"
        },
        "id": "D4waRikISyjy",
        "outputId": "6ea8c354-247f-4031-c999-64676f0fc99f"
      },
      "execution_count": null,
      "outputs": [
        {
          "output_type": "stream",
          "name": "stdout",
          "text": [
            "Metin: 'bu lgbtli sapıklar hep bizi buluyor bunlar defolsun gitsin ibneler'\n",
            "Model Tahmini: homophobic\n"
          ]
        }
      ]
    },
    {
      "cell_type": "code",
      "source": [
        "# Girdi metin\n",
        "text = \"suriyelileri sevenin amk hepsi orospu çocuğu siktirsinler kendi ülkelerine\"\n",
        "\n",
        "# Tokenize edin\n",
        "inputs = tokenizer(text, return_tensors=\"pt\", padding=True, truncation=True, max_length=512)\n",
        "\n",
        "# Veriyi cihaza taşıyın\n",
        "inputs = {key: val.to(device) for key, val in inputs.items()}\n",
        "\n",
        "# Modeli kullanarak tahmin yapın\n",
        "with torch.no_grad():\n",
        "    outputs = model(**inputs)\n",
        "\n",
        "# Çıktıları işleyin\n",
        "logits = outputs.logits\n",
        "predicted_class_id = torch.argmax(logits, dim=1).item()\n",
        "\n",
        "# Modelin sınıf etiketlerini tanımlayın\n",
        "label_map = {0: \"gender\", 1: \"homophobic\", 2: \"Religious\", 3: \"Ethnic\",4:'Other'}  # Bu haritayı modelinize göre ayarlayın\n",
        "\n",
        "predicted_label = label_map[predicted_class_id]\n",
        "\n",
        "print(f\"Metin: '{text}'\")\n",
        "print(f\"Model Tahmini: {predicted_label}\")"
      ],
      "metadata": {
        "colab": {
          "base_uri": "https://localhost:8080/"
        },
        "id": "OG5QYhzsTMq7",
        "outputId": "e7ab4b69-641d-4004-9e24-c665d30e2750"
      },
      "execution_count": null,
      "outputs": [
        {
          "output_type": "stream",
          "name": "stdout",
          "text": [
            "Metin: 'suriyelileri sevenin amk hepsi orospu çocuğu siktirsinler kendi ülkelerine'\n",
            "Model Tahmini: Ethnic\n"
          ]
        }
      ]
    },
    {
      "cell_type": "code",
      "source": [
        "# Girdi metin\n",
        "text = \"bu karılar böyle yollu hep işleri güçleri saçmalık aq\"\n",
        "\n",
        "# Tokenize edin\n",
        "inputs = tokenizer(text, return_tensors=\"pt\", padding=True, truncation=True, max_length=512)\n",
        "\n",
        "# Veriyi cihaza taşıyın\n",
        "inputs = {key: val.to(device) for key, val in inputs.items()}\n",
        "\n",
        "# Modeli kullanarak tahmin yapın\n",
        "with torch.no_grad():\n",
        "    outputs = model(**inputs)\n",
        "\n",
        "# Çıktıları işleyin\n",
        "logits = outputs.logits\n",
        "predicted_class_id = torch.argmax(logits, dim=1).item()\n",
        "\n",
        "# Modelin sınıf etiketlerini tanımlayın\n",
        "label_map = {0: \"gender\", 1: \"homophobic\", 2: \"Religious\", 3: \"Ethnic\",4:'Other'}  # Bu haritayı modelinize göre ayarlayın\n",
        "\n",
        "predicted_label = label_map[predicted_class_id]\n",
        "\n",
        "print(f\"Metin: '{text}'\")\n",
        "print(f\"Model Tahmini: {predicted_label}\")"
      ],
      "metadata": {
        "colab": {
          "base_uri": "https://localhost:8080/"
        },
        "id": "ksIr-JOeVZDv",
        "outputId": "8fe90911-b96e-4f5d-acf2-8879a5fdfbf2"
      },
      "execution_count": null,
      "outputs": [
        {
          "output_type": "stream",
          "name": "stdout",
          "text": [
            "Metin: 'bu karılar böyle yollu hep işleri güçleri saçmalık aq'\n",
            "Model Tahmini: gender\n"
          ]
        }
      ]
    },
    {
      "cell_type": "code",
      "source": [
        "# Girdi metin\n",
        "text = \"bu gavur ateistlerin kökünü kurutmak lazım\"\n",
        "\n",
        "# Tokenize edin\n",
        "inputs = tokenizer(text, return_tensors=\"pt\", padding=True, truncation=True, max_length=512)\n",
        "\n",
        "# Veriyi cihaza taşıyın\n",
        "inputs = {key: val.to(device) for key, val in inputs.items()}\n",
        "\n",
        "# Modeli kullanarak tahmin yapın\n",
        "with torch.no_grad():\n",
        "    outputs = model(**inputs)\n",
        "\n",
        "# Çıktıları işleyin\n",
        "logits = outputs.logits\n",
        "predicted_class_id = torch.argmax(logits, dim=1).item()\n",
        "\n",
        "# Modelin sınıf etiketlerini tanımlayın\n",
        "label_map = {0: \"gender\", 1: \"homophobic\", 2: \"Religious\", 3: \"Ethnic\",4:'Other'}  # Bu haritayı modelinize göre ayarlayın\n",
        "\n",
        "predicted_label = label_map[predicted_class_id]\n",
        "\n",
        "print(f\"Metin: '{text}'\")\n",
        "print(f\"Model Tahmini: {predicted_label}\")"
      ],
      "metadata": {
        "colab": {
          "base_uri": "https://localhost:8080/"
        },
        "id": "d04cu59CVjUN",
        "outputId": "728aa14e-9729-4e01-a77e-545a7238fd2c"
      },
      "execution_count": null,
      "outputs": [
        {
          "output_type": "stream",
          "name": "stdout",
          "text": [
            "Metin: 'bu gavur ateistlerin kökünü kurutmak lazım'\n",
            "Model Tahmini: Religious\n"
          ]
        }
      ]
    },
    {
      "cell_type": "code",
      "source": [
        "# Girdi metin\n",
        "text = \"orospu çocuğu gavurlar olmasa dünyamız daha iyi bi yer olurdu\"\n",
        "\n",
        "# Tokenize edin\n",
        "inputs = tokenizer(text, return_tensors=\"pt\", padding=True, truncation=True, max_length=512)\n",
        "\n",
        "# Veriyi cihaza taşıyın\n",
        "inputs = {key: val.to(device) for key, val in inputs.items()}\n",
        "\n",
        "# Modeli kullanarak tahmin yapın\n",
        "with torch.no_grad():\n",
        "    outputs = model(**inputs)\n",
        "\n",
        "# Çıktıları işleyin\n",
        "logits = outputs.logits\n",
        "predicted_class_id = torch.argmax(logits, dim=1).item()\n",
        "\n",
        "# Modelin sınıf etiketlerini tanımlayın\n",
        "label_map = {0: \"gender\", 1: \"homophobic\", 2: \"Religious\", 3: \"Ethnic\",4:'Other'}  # Bu haritayı modelinize göre ayarlayın\n",
        "\n",
        "predicted_label = label_map[predicted_class_id]\n",
        "\n",
        "print(f\"Metin: '{text}'\")\n",
        "print(f\"Model Tahmini: {predicted_label}\")"
      ],
      "metadata": {
        "colab": {
          "base_uri": "https://localhost:8080/"
        },
        "id": "jxpHWyRnVynq",
        "outputId": "4a1d2d7d-5d41-4ae1-941f-3a0e58722cf6"
      },
      "execution_count": null,
      "outputs": [
        {
          "output_type": "stream",
          "name": "stdout",
          "text": [
            "Metin: 'orospu çocuğu gavurlar olmasa dünyamız daha iyi bi yer olurdu'\n",
            "Model Tahmini: Religious\n"
          ]
        }
      ]
    },
    {
      "cell_type": "code",
      "source": [
        "# Girdi metin\n",
        "text = \"ülkemde mülteci istemiyorum\"\n",
        "\n",
        "# Tokenize edin\n",
        "inputs = tokenizer(text, return_tensors=\"pt\", padding=True, truncation=True, max_length=512)\n",
        "\n",
        "# Veriyi cihaza taşıyın\n",
        "inputs = {key: val.to(device) for key, val in inputs.items()}\n",
        "\n",
        "# Modeli kullanarak tahmin yapın\n",
        "with torch.no_grad():\n",
        "    outputs = model(**inputs)\n",
        "\n",
        "# Çıktıları işleyin\n",
        "logits = outputs.logits\n",
        "predicted_class_id = torch.argmax(logits, dim=1).item()\n",
        "\n",
        "# Modelin sınıf etiketlerini tanımlayın\n",
        "label_map = {0: \"gender\", 1: \"homophobic\", 2: \"Religious\", 3: \"Ethnic\",4:'Other'}  # Bu haritayı modelinize göre ayarlayın\n",
        "\n",
        "predicted_label = label_map[predicted_class_id]\n",
        "\n",
        "print(f\"Metin: '{text}'\")\n",
        "print(f\"Model Tahmini: {predicted_label}\")"
      ],
      "metadata": {
        "colab": {
          "base_uri": "https://localhost:8080/"
        },
        "id": "P4XPYUgFWyNh",
        "outputId": "2738be0d-33ec-42ed-b8c2-90259ee65e2a"
      },
      "execution_count": null,
      "outputs": [
        {
          "output_type": "stream",
          "name": "stdout",
          "text": [
            "Metin: 'ülkemde mülteci istemiyorum'\n",
            "Model Tahmini: Ethnic\n"
          ]
        }
      ]
    },
    {
      "cell_type": "code",
      "source": [
        "# Girdi metin\n",
        "text = \"bu ne saçma sapan bir iş ya ne yaptığınız belli değil asalaklar\"\n",
        "\n",
        "# Tokenize edin\n",
        "inputs = tokenizer(text, return_tensors=\"pt\", padding=True, truncation=True, max_length=512)\n",
        "\n",
        "# Veriyi cihaza taşıyın\n",
        "inputs = {key: val.to(device) for key, val in inputs.items()}\n",
        "\n",
        "# Modeli kullanarak tahmin yapın\n",
        "with torch.no_grad():\n",
        "    outputs = model(**inputs)\n",
        "\n",
        "# Çıktıları işleyin\n",
        "logits = outputs.logits\n",
        "predicted_class_id = torch.argmax(logits, dim=1).item()\n",
        "\n",
        "# Modelin sınıf etiketlerini tanımlayın\n",
        "label_map = {0: \"gender\", 1: \"homophobic\", 2: \"Religious\", 3: \"Ethnic\",4:'Other'}  # Bu haritayı modelinize göre ayarlayın\n",
        "\n",
        "predicted_label = label_map[predicted_class_id]\n",
        "\n",
        "print(f\"Metin: '{text}'\")\n",
        "print(f\"Model Tahmini: {predicted_label}\")"
      ],
      "metadata": {
        "colab": {
          "base_uri": "https://localhost:8080/"
        },
        "id": "8l38M8Y3pRof",
        "outputId": "9403075c-8201-4d9c-840d-9127a474fb84"
      },
      "execution_count": null,
      "outputs": [
        {
          "output_type": "stream",
          "name": "stdout",
          "text": [
            "Metin: 'bu ne saçma sapan bir iş ya ne yaptığınız belli değil asalaklar'\n",
            "Model Tahmini: Other\n"
          ]
        }
      ]
    },
    {
      "cell_type": "code",
      "source": [
        "# Girdi metin\n",
        "text = \"yunan salakları boş konuşmayın\"\n",
        "\n",
        "# Tokenize edin\n",
        "inputs = tokenizer(text, return_tensors=\"pt\", padding=True, truncation=True, max_length=512)\n",
        "\n",
        "# Veriyi cihaza taşıyın\n",
        "inputs = {key: val.to(device) for key, val in inputs.items()}\n",
        "\n",
        "# Modeli kullanarak tahmin yapın\n",
        "with torch.no_grad():\n",
        "    outputs = model(**inputs)\n",
        "\n",
        "# Çıktıları işleyin\n",
        "logits = outputs.logits\n",
        "predicted_class_id = torch.argmax(logits, dim=1).item()\n",
        "\n",
        "# Modelin sınıf etiketlerini tanımlayın\n",
        "label_map = {0: \"gender\", 1: \"homophobic\", 2: \"Religious\", 3: \"Ethnic\",4:'Other'}  # Bu haritayı modelinize göre ayarlayın\n",
        "\n",
        "predicted_label = label_map[predicted_class_id]\n",
        "\n",
        "print(f\"Metin: '{text}'\")\n",
        "print(f\"Model Tahmini: {predicted_label}\")"
      ],
      "metadata": {
        "colab": {
          "base_uri": "https://localhost:8080/"
        },
        "id": "CW8TU4nCp1-o",
        "outputId": "be85da04-94ae-49cf-ab71-d725633b5495"
      },
      "execution_count": null,
      "outputs": [
        {
          "output_type": "stream",
          "name": "stdout",
          "text": [
            "Metin: 'yunan salakları boş konuşmayın'\n",
            "Model Tahmini: Ethnic\n"
          ]
        }
      ]
    }
  ]
}