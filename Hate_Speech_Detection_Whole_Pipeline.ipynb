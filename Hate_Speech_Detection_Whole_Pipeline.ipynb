{
  "nbformat": 4,
  "nbformat_minor": 0,
  "metadata": {
    "colab": {
      "provenance": [],
      "gpuType": "T4"
    },
    "kernelspec": {
      "name": "python3",
      "display_name": "Python 3"
    },
    "language_info": {
      "name": "python"
    },
    "accelerator": "GPU",
    "widgets": {
      "application/vnd.jupyter.widget-state+json": {
        "685171c566eb44b0b2c0e18b822ee949": {
          "model_module": "@jupyter-widgets/controls",
          "model_name": "HBoxModel",
          "model_module_version": "1.5.0",
          "state": {
            "_dom_classes": [],
            "_model_module": "@jupyter-widgets/controls",
            "_model_module_version": "1.5.0",
            "_model_name": "HBoxModel",
            "_view_count": null,
            "_view_module": "@jupyter-widgets/controls",
            "_view_module_version": "1.5.0",
            "_view_name": "HBoxView",
            "box_style": "",
            "children": [
              "IPY_MODEL_ef742803fa5447c3977666988a1aef79",
              "IPY_MODEL_aec3b6e3ab7f4bd98a8b68c891b39185",
              "IPY_MODEL_e53b2a7d01f6404bb15499f94d98dc09"
            ],
            "layout": "IPY_MODEL_15a82ef0b0df40b98c265330972c0da4"
          }
        },
        "ef742803fa5447c3977666988a1aef79": {
          "model_module": "@jupyter-widgets/controls",
          "model_name": "HTMLModel",
          "model_module_version": "1.5.0",
          "state": {
            "_dom_classes": [],
            "_model_module": "@jupyter-widgets/controls",
            "_model_module_version": "1.5.0",
            "_model_name": "HTMLModel",
            "_view_count": null,
            "_view_module": "@jupyter-widgets/controls",
            "_view_module_version": "1.5.0",
            "_view_name": "HTMLView",
            "description": "",
            "description_tooltip": null,
            "layout": "IPY_MODEL_f9fc288ae8aa41ed9631a6de666aace7",
            "placeholder": "​",
            "style": "IPY_MODEL_66b0b646fb154c9ca107d58a5cbf51bc",
            "value": "tokenizer_config.json: 100%"
          }
        },
        "aec3b6e3ab7f4bd98a8b68c891b39185": {
          "model_module": "@jupyter-widgets/controls",
          "model_name": "FloatProgressModel",
          "model_module_version": "1.5.0",
          "state": {
            "_dom_classes": [],
            "_model_module": "@jupyter-widgets/controls",
            "_model_module_version": "1.5.0",
            "_model_name": "FloatProgressModel",
            "_view_count": null,
            "_view_module": "@jupyter-widgets/controls",
            "_view_module_version": "1.5.0",
            "_view_name": "ProgressView",
            "bar_style": "success",
            "description": "",
            "description_tooltip": null,
            "layout": "IPY_MODEL_e1dcab1b3c5a48b78e1d5d49d80f5937",
            "max": 59,
            "min": 0,
            "orientation": "horizontal",
            "style": "IPY_MODEL_548de0800b014435bd72d9c15cebca82",
            "value": 59
          }
        },
        "e53b2a7d01f6404bb15499f94d98dc09": {
          "model_module": "@jupyter-widgets/controls",
          "model_name": "HTMLModel",
          "model_module_version": "1.5.0",
          "state": {
            "_dom_classes": [],
            "_model_module": "@jupyter-widgets/controls",
            "_model_module_version": "1.5.0",
            "_model_name": "HTMLModel",
            "_view_count": null,
            "_view_module": "@jupyter-widgets/controls",
            "_view_module_version": "1.5.0",
            "_view_name": "HTMLView",
            "description": "",
            "description_tooltip": null,
            "layout": "IPY_MODEL_db8b552e1d274b5faf9a6b8d7d677e19",
            "placeholder": "​",
            "style": "IPY_MODEL_8b9de5ba94c24a669911d66c54885c4e",
            "value": " 59.0/59.0 [00:00&lt;00:00, 770B/s]"
          }
        },
        "15a82ef0b0df40b98c265330972c0da4": {
          "model_module": "@jupyter-widgets/base",
          "model_name": "LayoutModel",
          "model_module_version": "1.2.0",
          "state": {
            "_model_module": "@jupyter-widgets/base",
            "_model_module_version": "1.2.0",
            "_model_name": "LayoutModel",
            "_view_count": null,
            "_view_module": "@jupyter-widgets/base",
            "_view_module_version": "1.2.0",
            "_view_name": "LayoutView",
            "align_content": null,
            "align_items": null,
            "align_self": null,
            "border": null,
            "bottom": null,
            "display": null,
            "flex": null,
            "flex_flow": null,
            "grid_area": null,
            "grid_auto_columns": null,
            "grid_auto_flow": null,
            "grid_auto_rows": null,
            "grid_column": null,
            "grid_gap": null,
            "grid_row": null,
            "grid_template_areas": null,
            "grid_template_columns": null,
            "grid_template_rows": null,
            "height": null,
            "justify_content": null,
            "justify_items": null,
            "left": null,
            "margin": null,
            "max_height": null,
            "max_width": null,
            "min_height": null,
            "min_width": null,
            "object_fit": null,
            "object_position": null,
            "order": null,
            "overflow": null,
            "overflow_x": null,
            "overflow_y": null,
            "padding": null,
            "right": null,
            "top": null,
            "visibility": null,
            "width": null
          }
        },
        "f9fc288ae8aa41ed9631a6de666aace7": {
          "model_module": "@jupyter-widgets/base",
          "model_name": "LayoutModel",
          "model_module_version": "1.2.0",
          "state": {
            "_model_module": "@jupyter-widgets/base",
            "_model_module_version": "1.2.0",
            "_model_name": "LayoutModel",
            "_view_count": null,
            "_view_module": "@jupyter-widgets/base",
            "_view_module_version": "1.2.0",
            "_view_name": "LayoutView",
            "align_content": null,
            "align_items": null,
            "align_self": null,
            "border": null,
            "bottom": null,
            "display": null,
            "flex": null,
            "flex_flow": null,
            "grid_area": null,
            "grid_auto_columns": null,
            "grid_auto_flow": null,
            "grid_auto_rows": null,
            "grid_column": null,
            "grid_gap": null,
            "grid_row": null,
            "grid_template_areas": null,
            "grid_template_columns": null,
            "grid_template_rows": null,
            "height": null,
            "justify_content": null,
            "justify_items": null,
            "left": null,
            "margin": null,
            "max_height": null,
            "max_width": null,
            "min_height": null,
            "min_width": null,
            "object_fit": null,
            "object_position": null,
            "order": null,
            "overflow": null,
            "overflow_x": null,
            "overflow_y": null,
            "padding": null,
            "right": null,
            "top": null,
            "visibility": null,
            "width": null
          }
        },
        "66b0b646fb154c9ca107d58a5cbf51bc": {
          "model_module": "@jupyter-widgets/controls",
          "model_name": "DescriptionStyleModel",
          "model_module_version": "1.5.0",
          "state": {
            "_model_module": "@jupyter-widgets/controls",
            "_model_module_version": "1.5.0",
            "_model_name": "DescriptionStyleModel",
            "_view_count": null,
            "_view_module": "@jupyter-widgets/base",
            "_view_module_version": "1.2.0",
            "_view_name": "StyleView",
            "description_width": ""
          }
        },
        "e1dcab1b3c5a48b78e1d5d49d80f5937": {
          "model_module": "@jupyter-widgets/base",
          "model_name": "LayoutModel",
          "model_module_version": "1.2.0",
          "state": {
            "_model_module": "@jupyter-widgets/base",
            "_model_module_version": "1.2.0",
            "_model_name": "LayoutModel",
            "_view_count": null,
            "_view_module": "@jupyter-widgets/base",
            "_view_module_version": "1.2.0",
            "_view_name": "LayoutView",
            "align_content": null,
            "align_items": null,
            "align_self": null,
            "border": null,
            "bottom": null,
            "display": null,
            "flex": null,
            "flex_flow": null,
            "grid_area": null,
            "grid_auto_columns": null,
            "grid_auto_flow": null,
            "grid_auto_rows": null,
            "grid_column": null,
            "grid_gap": null,
            "grid_row": null,
            "grid_template_areas": null,
            "grid_template_columns": null,
            "grid_template_rows": null,
            "height": null,
            "justify_content": null,
            "justify_items": null,
            "left": null,
            "margin": null,
            "max_height": null,
            "max_width": null,
            "min_height": null,
            "min_width": null,
            "object_fit": null,
            "object_position": null,
            "order": null,
            "overflow": null,
            "overflow_x": null,
            "overflow_y": null,
            "padding": null,
            "right": null,
            "top": null,
            "visibility": null,
            "width": null
          }
        },
        "548de0800b014435bd72d9c15cebca82": {
          "model_module": "@jupyter-widgets/controls",
          "model_name": "ProgressStyleModel",
          "model_module_version": "1.5.0",
          "state": {
            "_model_module": "@jupyter-widgets/controls",
            "_model_module_version": "1.5.0",
            "_model_name": "ProgressStyleModel",
            "_view_count": null,
            "_view_module": "@jupyter-widgets/base",
            "_view_module_version": "1.2.0",
            "_view_name": "StyleView",
            "bar_color": null,
            "description_width": ""
          }
        },
        "db8b552e1d274b5faf9a6b8d7d677e19": {
          "model_module": "@jupyter-widgets/base",
          "model_name": "LayoutModel",
          "model_module_version": "1.2.0",
          "state": {
            "_model_module": "@jupyter-widgets/base",
            "_model_module_version": "1.2.0",
            "_model_name": "LayoutModel",
            "_view_count": null,
            "_view_module": "@jupyter-widgets/base",
            "_view_module_version": "1.2.0",
            "_view_name": "LayoutView",
            "align_content": null,
            "align_items": null,
            "align_self": null,
            "border": null,
            "bottom": null,
            "display": null,
            "flex": null,
            "flex_flow": null,
            "grid_area": null,
            "grid_auto_columns": null,
            "grid_auto_flow": null,
            "grid_auto_rows": null,
            "grid_column": null,
            "grid_gap": null,
            "grid_row": null,
            "grid_template_areas": null,
            "grid_template_columns": null,
            "grid_template_rows": null,
            "height": null,
            "justify_content": null,
            "justify_items": null,
            "left": null,
            "margin": null,
            "max_height": null,
            "max_width": null,
            "min_height": null,
            "min_width": null,
            "object_fit": null,
            "object_position": null,
            "order": null,
            "overflow": null,
            "overflow_x": null,
            "overflow_y": null,
            "padding": null,
            "right": null,
            "top": null,
            "visibility": null,
            "width": null
          }
        },
        "8b9de5ba94c24a669911d66c54885c4e": {
          "model_module": "@jupyter-widgets/controls",
          "model_name": "DescriptionStyleModel",
          "model_module_version": "1.5.0",
          "state": {
            "_model_module": "@jupyter-widgets/controls",
            "_model_module_version": "1.5.0",
            "_model_name": "DescriptionStyleModel",
            "_view_count": null,
            "_view_module": "@jupyter-widgets/base",
            "_view_module_version": "1.2.0",
            "_view_name": "StyleView",
            "description_width": ""
          }
        },
        "ff5873b9502d4f498dca99df28deb594": {
          "model_module": "@jupyter-widgets/controls",
          "model_name": "HBoxModel",
          "model_module_version": "1.5.0",
          "state": {
            "_dom_classes": [],
            "_model_module": "@jupyter-widgets/controls",
            "_model_module_version": "1.5.0",
            "_model_name": "HBoxModel",
            "_view_count": null,
            "_view_module": "@jupyter-widgets/controls",
            "_view_module_version": "1.5.0",
            "_view_name": "HBoxView",
            "box_style": "",
            "children": [
              "IPY_MODEL_d8fdc2b8c0e947a19c25120be6eafa44",
              "IPY_MODEL_f952eafb2c30466e8b6b354435f9f795",
              "IPY_MODEL_c8e596a80cfd412ea317d0a1166a23fe"
            ],
            "layout": "IPY_MODEL_bd1abcbde98848f2a2758f935e0564cd"
          }
        },
        "d8fdc2b8c0e947a19c25120be6eafa44": {
          "model_module": "@jupyter-widgets/controls",
          "model_name": "HTMLModel",
          "model_module_version": "1.5.0",
          "state": {
            "_dom_classes": [],
            "_model_module": "@jupyter-widgets/controls",
            "_model_module_version": "1.5.0",
            "_model_name": "HTMLModel",
            "_view_count": null,
            "_view_module": "@jupyter-widgets/controls",
            "_view_module_version": "1.5.0",
            "_view_name": "HTMLView",
            "description": "",
            "description_tooltip": null,
            "layout": "IPY_MODEL_01371a6c823147d389cec071a3bdcb56",
            "placeholder": "​",
            "style": "IPY_MODEL_6753e254efb648199dd2ae01a7c8a3da",
            "value": "vocab.txt: 100%"
          }
        },
        "f952eafb2c30466e8b6b354435f9f795": {
          "model_module": "@jupyter-widgets/controls",
          "model_name": "FloatProgressModel",
          "model_module_version": "1.5.0",
          "state": {
            "_dom_classes": [],
            "_model_module": "@jupyter-widgets/controls",
            "_model_module_version": "1.5.0",
            "_model_name": "FloatProgressModel",
            "_view_count": null,
            "_view_module": "@jupyter-widgets/controls",
            "_view_module_version": "1.5.0",
            "_view_name": "ProgressView",
            "bar_style": "success",
            "description": "",
            "description_tooltip": null,
            "layout": "IPY_MODEL_d2dfc0510e9a41d5a5713b4aed951bc6",
            "max": 262620,
            "min": 0,
            "orientation": "horizontal",
            "style": "IPY_MODEL_3de090de5ac74a6187244243ed958d59",
            "value": 262620
          }
        },
        "c8e596a80cfd412ea317d0a1166a23fe": {
          "model_module": "@jupyter-widgets/controls",
          "model_name": "HTMLModel",
          "model_module_version": "1.5.0",
          "state": {
            "_dom_classes": [],
            "_model_module": "@jupyter-widgets/controls",
            "_model_module_version": "1.5.0",
            "_model_name": "HTMLModel",
            "_view_count": null,
            "_view_module": "@jupyter-widgets/controls",
            "_view_module_version": "1.5.0",
            "_view_name": "HTMLView",
            "description": "",
            "description_tooltip": null,
            "layout": "IPY_MODEL_944a203dc358430bb66bb655b57ae79c",
            "placeholder": "​",
            "style": "IPY_MODEL_bea8b5d6679a4979bc24f5c6bd950dc9",
            "value": " 263k/263k [00:00&lt;00:00, 1.68MB/s]"
          }
        },
        "bd1abcbde98848f2a2758f935e0564cd": {
          "model_module": "@jupyter-widgets/base",
          "model_name": "LayoutModel",
          "model_module_version": "1.2.0",
          "state": {
            "_model_module": "@jupyter-widgets/base",
            "_model_module_version": "1.2.0",
            "_model_name": "LayoutModel",
            "_view_count": null,
            "_view_module": "@jupyter-widgets/base",
            "_view_module_version": "1.2.0",
            "_view_name": "LayoutView",
            "align_content": null,
            "align_items": null,
            "align_self": null,
            "border": null,
            "bottom": null,
            "display": null,
            "flex": null,
            "flex_flow": null,
            "grid_area": null,
            "grid_auto_columns": null,
            "grid_auto_flow": null,
            "grid_auto_rows": null,
            "grid_column": null,
            "grid_gap": null,
            "grid_row": null,
            "grid_template_areas": null,
            "grid_template_columns": null,
            "grid_template_rows": null,
            "height": null,
            "justify_content": null,
            "justify_items": null,
            "left": null,
            "margin": null,
            "max_height": null,
            "max_width": null,
            "min_height": null,
            "min_width": null,
            "object_fit": null,
            "object_position": null,
            "order": null,
            "overflow": null,
            "overflow_x": null,
            "overflow_y": null,
            "padding": null,
            "right": null,
            "top": null,
            "visibility": null,
            "width": null
          }
        },
        "01371a6c823147d389cec071a3bdcb56": {
          "model_module": "@jupyter-widgets/base",
          "model_name": "LayoutModel",
          "model_module_version": "1.2.0",
          "state": {
            "_model_module": "@jupyter-widgets/base",
            "_model_module_version": "1.2.0",
            "_model_name": "LayoutModel",
            "_view_count": null,
            "_view_module": "@jupyter-widgets/base",
            "_view_module_version": "1.2.0",
            "_view_name": "LayoutView",
            "align_content": null,
            "align_items": null,
            "align_self": null,
            "border": null,
            "bottom": null,
            "display": null,
            "flex": null,
            "flex_flow": null,
            "grid_area": null,
            "grid_auto_columns": null,
            "grid_auto_flow": null,
            "grid_auto_rows": null,
            "grid_column": null,
            "grid_gap": null,
            "grid_row": null,
            "grid_template_areas": null,
            "grid_template_columns": null,
            "grid_template_rows": null,
            "height": null,
            "justify_content": null,
            "justify_items": null,
            "left": null,
            "margin": null,
            "max_height": null,
            "max_width": null,
            "min_height": null,
            "min_width": null,
            "object_fit": null,
            "object_position": null,
            "order": null,
            "overflow": null,
            "overflow_x": null,
            "overflow_y": null,
            "padding": null,
            "right": null,
            "top": null,
            "visibility": null,
            "width": null
          }
        },
        "6753e254efb648199dd2ae01a7c8a3da": {
          "model_module": "@jupyter-widgets/controls",
          "model_name": "DescriptionStyleModel",
          "model_module_version": "1.5.0",
          "state": {
            "_model_module": "@jupyter-widgets/controls",
            "_model_module_version": "1.5.0",
            "_model_name": "DescriptionStyleModel",
            "_view_count": null,
            "_view_module": "@jupyter-widgets/base",
            "_view_module_version": "1.2.0",
            "_view_name": "StyleView",
            "description_width": ""
          }
        },
        "d2dfc0510e9a41d5a5713b4aed951bc6": {
          "model_module": "@jupyter-widgets/base",
          "model_name": "LayoutModel",
          "model_module_version": "1.2.0",
          "state": {
            "_model_module": "@jupyter-widgets/base",
            "_model_module_version": "1.2.0",
            "_model_name": "LayoutModel",
            "_view_count": null,
            "_view_module": "@jupyter-widgets/base",
            "_view_module_version": "1.2.0",
            "_view_name": "LayoutView",
            "align_content": null,
            "align_items": null,
            "align_self": null,
            "border": null,
            "bottom": null,
            "display": null,
            "flex": null,
            "flex_flow": null,
            "grid_area": null,
            "grid_auto_columns": null,
            "grid_auto_flow": null,
            "grid_auto_rows": null,
            "grid_column": null,
            "grid_gap": null,
            "grid_row": null,
            "grid_template_areas": null,
            "grid_template_columns": null,
            "grid_template_rows": null,
            "height": null,
            "justify_content": null,
            "justify_items": null,
            "left": null,
            "margin": null,
            "max_height": null,
            "max_width": null,
            "min_height": null,
            "min_width": null,
            "object_fit": null,
            "object_position": null,
            "order": null,
            "overflow": null,
            "overflow_x": null,
            "overflow_y": null,
            "padding": null,
            "right": null,
            "top": null,
            "visibility": null,
            "width": null
          }
        },
        "3de090de5ac74a6187244243ed958d59": {
          "model_module": "@jupyter-widgets/controls",
          "model_name": "ProgressStyleModel",
          "model_module_version": "1.5.0",
          "state": {
            "_model_module": "@jupyter-widgets/controls",
            "_model_module_version": "1.5.0",
            "_model_name": "ProgressStyleModel",
            "_view_count": null,
            "_view_module": "@jupyter-widgets/base",
            "_view_module_version": "1.2.0",
            "_view_name": "StyleView",
            "bar_color": null,
            "description_width": ""
          }
        },
        "944a203dc358430bb66bb655b57ae79c": {
          "model_module": "@jupyter-widgets/base",
          "model_name": "LayoutModel",
          "model_module_version": "1.2.0",
          "state": {
            "_model_module": "@jupyter-widgets/base",
            "_model_module_version": "1.2.0",
            "_model_name": "LayoutModel",
            "_view_count": null,
            "_view_module": "@jupyter-widgets/base",
            "_view_module_version": "1.2.0",
            "_view_name": "LayoutView",
            "align_content": null,
            "align_items": null,
            "align_self": null,
            "border": null,
            "bottom": null,
            "display": null,
            "flex": null,
            "flex_flow": null,
            "grid_area": null,
            "grid_auto_columns": null,
            "grid_auto_flow": null,
            "grid_auto_rows": null,
            "grid_column": null,
            "grid_gap": null,
            "grid_row": null,
            "grid_template_areas": null,
            "grid_template_columns": null,
            "grid_template_rows": null,
            "height": null,
            "justify_content": null,
            "justify_items": null,
            "left": null,
            "margin": null,
            "max_height": null,
            "max_width": null,
            "min_height": null,
            "min_width": null,
            "object_fit": null,
            "object_position": null,
            "order": null,
            "overflow": null,
            "overflow_x": null,
            "overflow_y": null,
            "padding": null,
            "right": null,
            "top": null,
            "visibility": null,
            "width": null
          }
        },
        "bea8b5d6679a4979bc24f5c6bd950dc9": {
          "model_module": "@jupyter-widgets/controls",
          "model_name": "DescriptionStyleModel",
          "model_module_version": "1.5.0",
          "state": {
            "_model_module": "@jupyter-widgets/controls",
            "_model_module_version": "1.5.0",
            "_model_name": "DescriptionStyleModel",
            "_view_count": null,
            "_view_module": "@jupyter-widgets/base",
            "_view_module_version": "1.2.0",
            "_view_name": "StyleView",
            "description_width": ""
          }
        },
        "d5daf5f8347941eebad5f5d6f5e6c76e": {
          "model_module": "@jupyter-widgets/controls",
          "model_name": "HBoxModel",
          "model_module_version": "1.5.0",
          "state": {
            "_dom_classes": [],
            "_model_module": "@jupyter-widgets/controls",
            "_model_module_version": "1.5.0",
            "_model_name": "HBoxModel",
            "_view_count": null,
            "_view_module": "@jupyter-widgets/controls",
            "_view_module_version": "1.5.0",
            "_view_name": "HBoxView",
            "box_style": "",
            "children": [
              "IPY_MODEL_05ca5c94715c44cdbcab67c3aa8af87c",
              "IPY_MODEL_a9472a7b55d2477abf1bfd2d7eb6798d",
              "IPY_MODEL_46bf2dd602a341f2834bcde388e1c374"
            ],
            "layout": "IPY_MODEL_7e3e4516050b4019b792a4d0a95b52d2"
          }
        },
        "05ca5c94715c44cdbcab67c3aa8af87c": {
          "model_module": "@jupyter-widgets/controls",
          "model_name": "HTMLModel",
          "model_module_version": "1.5.0",
          "state": {
            "_dom_classes": [],
            "_model_module": "@jupyter-widgets/controls",
            "_model_module_version": "1.5.0",
            "_model_name": "HTMLModel",
            "_view_count": null,
            "_view_module": "@jupyter-widgets/controls",
            "_view_module_version": "1.5.0",
            "_view_name": "HTMLView",
            "description": "",
            "description_tooltip": null,
            "layout": "IPY_MODEL_827bb5bce98f4760bf09cf75f96bd006",
            "placeholder": "​",
            "style": "IPY_MODEL_f00c815af5af40faa3bff5edff412fef",
            "value": "config.json: 100%"
          }
        },
        "a9472a7b55d2477abf1bfd2d7eb6798d": {
          "model_module": "@jupyter-widgets/controls",
          "model_name": "FloatProgressModel",
          "model_module_version": "1.5.0",
          "state": {
            "_dom_classes": [],
            "_model_module": "@jupyter-widgets/controls",
            "_model_module_version": "1.5.0",
            "_model_name": "FloatProgressModel",
            "_view_count": null,
            "_view_module": "@jupyter-widgets/controls",
            "_view_module_version": "1.5.0",
            "_view_name": "ProgressView",
            "bar_style": "success",
            "description": "",
            "description_tooltip": null,
            "layout": "IPY_MODEL_f22d85331d004633bcd32fb0f0b6b838",
            "max": 385,
            "min": 0,
            "orientation": "horizontal",
            "style": "IPY_MODEL_48e9f3108c514c42a0692b915db79a48",
            "value": 385
          }
        },
        "46bf2dd602a341f2834bcde388e1c374": {
          "model_module": "@jupyter-widgets/controls",
          "model_name": "HTMLModel",
          "model_module_version": "1.5.0",
          "state": {
            "_dom_classes": [],
            "_model_module": "@jupyter-widgets/controls",
            "_model_module_version": "1.5.0",
            "_model_name": "HTMLModel",
            "_view_count": null,
            "_view_module": "@jupyter-widgets/controls",
            "_view_module_version": "1.5.0",
            "_view_name": "HTMLView",
            "description": "",
            "description_tooltip": null,
            "layout": "IPY_MODEL_941e81acbabe4028a5b17445812fbcfa",
            "placeholder": "​",
            "style": "IPY_MODEL_e6c02ed1f93b49bcadffa9d93b030d95",
            "value": " 385/385 [00:00&lt;00:00, 5.41kB/s]"
          }
        },
        "7e3e4516050b4019b792a4d0a95b52d2": {
          "model_module": "@jupyter-widgets/base",
          "model_name": "LayoutModel",
          "model_module_version": "1.2.0",
          "state": {
            "_model_module": "@jupyter-widgets/base",
            "_model_module_version": "1.2.0",
            "_model_name": "LayoutModel",
            "_view_count": null,
            "_view_module": "@jupyter-widgets/base",
            "_view_module_version": "1.2.0",
            "_view_name": "LayoutView",
            "align_content": null,
            "align_items": null,
            "align_self": null,
            "border": null,
            "bottom": null,
            "display": null,
            "flex": null,
            "flex_flow": null,
            "grid_area": null,
            "grid_auto_columns": null,
            "grid_auto_flow": null,
            "grid_auto_rows": null,
            "grid_column": null,
            "grid_gap": null,
            "grid_row": null,
            "grid_template_areas": null,
            "grid_template_columns": null,
            "grid_template_rows": null,
            "height": null,
            "justify_content": null,
            "justify_items": null,
            "left": null,
            "margin": null,
            "max_height": null,
            "max_width": null,
            "min_height": null,
            "min_width": null,
            "object_fit": null,
            "object_position": null,
            "order": null,
            "overflow": null,
            "overflow_x": null,
            "overflow_y": null,
            "padding": null,
            "right": null,
            "top": null,
            "visibility": null,
            "width": null
          }
        },
        "827bb5bce98f4760bf09cf75f96bd006": {
          "model_module": "@jupyter-widgets/base",
          "model_name": "LayoutModel",
          "model_module_version": "1.2.0",
          "state": {
            "_model_module": "@jupyter-widgets/base",
            "_model_module_version": "1.2.0",
            "_model_name": "LayoutModel",
            "_view_count": null,
            "_view_module": "@jupyter-widgets/base",
            "_view_module_version": "1.2.0",
            "_view_name": "LayoutView",
            "align_content": null,
            "align_items": null,
            "align_self": null,
            "border": null,
            "bottom": null,
            "display": null,
            "flex": null,
            "flex_flow": null,
            "grid_area": null,
            "grid_auto_columns": null,
            "grid_auto_flow": null,
            "grid_auto_rows": null,
            "grid_column": null,
            "grid_gap": null,
            "grid_row": null,
            "grid_template_areas": null,
            "grid_template_columns": null,
            "grid_template_rows": null,
            "height": null,
            "justify_content": null,
            "justify_items": null,
            "left": null,
            "margin": null,
            "max_height": null,
            "max_width": null,
            "min_height": null,
            "min_width": null,
            "object_fit": null,
            "object_position": null,
            "order": null,
            "overflow": null,
            "overflow_x": null,
            "overflow_y": null,
            "padding": null,
            "right": null,
            "top": null,
            "visibility": null,
            "width": null
          }
        },
        "f00c815af5af40faa3bff5edff412fef": {
          "model_module": "@jupyter-widgets/controls",
          "model_name": "DescriptionStyleModel",
          "model_module_version": "1.5.0",
          "state": {
            "_model_module": "@jupyter-widgets/controls",
            "_model_module_version": "1.5.0",
            "_model_name": "DescriptionStyleModel",
            "_view_count": null,
            "_view_module": "@jupyter-widgets/base",
            "_view_module_version": "1.2.0",
            "_view_name": "StyleView",
            "description_width": ""
          }
        },
        "f22d85331d004633bcd32fb0f0b6b838": {
          "model_module": "@jupyter-widgets/base",
          "model_name": "LayoutModel",
          "model_module_version": "1.2.0",
          "state": {
            "_model_module": "@jupyter-widgets/base",
            "_model_module_version": "1.2.0",
            "_model_name": "LayoutModel",
            "_view_count": null,
            "_view_module": "@jupyter-widgets/base",
            "_view_module_version": "1.2.0",
            "_view_name": "LayoutView",
            "align_content": null,
            "align_items": null,
            "align_self": null,
            "border": null,
            "bottom": null,
            "display": null,
            "flex": null,
            "flex_flow": null,
            "grid_area": null,
            "grid_auto_columns": null,
            "grid_auto_flow": null,
            "grid_auto_rows": null,
            "grid_column": null,
            "grid_gap": null,
            "grid_row": null,
            "grid_template_areas": null,
            "grid_template_columns": null,
            "grid_template_rows": null,
            "height": null,
            "justify_content": null,
            "justify_items": null,
            "left": null,
            "margin": null,
            "max_height": null,
            "max_width": null,
            "min_height": null,
            "min_width": null,
            "object_fit": null,
            "object_position": null,
            "order": null,
            "overflow": null,
            "overflow_x": null,
            "overflow_y": null,
            "padding": null,
            "right": null,
            "top": null,
            "visibility": null,
            "width": null
          }
        },
        "48e9f3108c514c42a0692b915db79a48": {
          "model_module": "@jupyter-widgets/controls",
          "model_name": "ProgressStyleModel",
          "model_module_version": "1.5.0",
          "state": {
            "_model_module": "@jupyter-widgets/controls",
            "_model_module_version": "1.5.0",
            "_model_name": "ProgressStyleModel",
            "_view_count": null,
            "_view_module": "@jupyter-widgets/base",
            "_view_module_version": "1.2.0",
            "_view_name": "StyleView",
            "bar_color": null,
            "description_width": ""
          }
        },
        "941e81acbabe4028a5b17445812fbcfa": {
          "model_module": "@jupyter-widgets/base",
          "model_name": "LayoutModel",
          "model_module_version": "1.2.0",
          "state": {
            "_model_module": "@jupyter-widgets/base",
            "_model_module_version": "1.2.0",
            "_model_name": "LayoutModel",
            "_view_count": null,
            "_view_module": "@jupyter-widgets/base",
            "_view_module_version": "1.2.0",
            "_view_name": "LayoutView",
            "align_content": null,
            "align_items": null,
            "align_self": null,
            "border": null,
            "bottom": null,
            "display": null,
            "flex": null,
            "flex_flow": null,
            "grid_area": null,
            "grid_auto_columns": null,
            "grid_auto_flow": null,
            "grid_auto_rows": null,
            "grid_column": null,
            "grid_gap": null,
            "grid_row": null,
            "grid_template_areas": null,
            "grid_template_columns": null,
            "grid_template_rows": null,
            "height": null,
            "justify_content": null,
            "justify_items": null,
            "left": null,
            "margin": null,
            "max_height": null,
            "max_width": null,
            "min_height": null,
            "min_width": null,
            "object_fit": null,
            "object_position": null,
            "order": null,
            "overflow": null,
            "overflow_x": null,
            "overflow_y": null,
            "padding": null,
            "right": null,
            "top": null,
            "visibility": null,
            "width": null
          }
        },
        "e6c02ed1f93b49bcadffa9d93b030d95": {
          "model_module": "@jupyter-widgets/controls",
          "model_name": "DescriptionStyleModel",
          "model_module_version": "1.5.0",
          "state": {
            "_model_module": "@jupyter-widgets/controls",
            "_model_module_version": "1.5.0",
            "_model_name": "DescriptionStyleModel",
            "_view_count": null,
            "_view_module": "@jupyter-widgets/base",
            "_view_module_version": "1.2.0",
            "_view_name": "StyleView",
            "description_width": ""
          }
        }
      }
    }
  },
  "cells": [
    {
      "cell_type": "markdown",
      "source": [
        "# **Libraries**"
      ],
      "metadata": {
        "id": "UpJ7cLQTA6Yc"
      }
    },
    {
      "cell_type": "code",
      "execution_count": 1,
      "metadata": {
        "id": "6Puw9AG1AwEk"
      },
      "outputs": [],
      "source": [
        "import pandas as pd\n",
        "import numpy as np\n",
        "import matplotlib.pyplot as plt\n",
        "from sklearn.model_selection import train_test_split\n",
        "from sklearn.feature_extraction.text import CountVectorizer\n",
        "from sklearn.naive_bayes import MultinomialNB\n",
        "from sklearn.linear_model import LogisticRegression\n",
        "from sklearn.metrics import classification_report, confusion_matrix\n",
        "from transformers import BertTokenizer, BertForSequenceClassification, Trainer, TrainingArguments\n",
        "import torch\n",
        "import seaborn as sns"
      ]
    },
    {
      "cell_type": "markdown",
      "source": [
        "# **Data Visualization**"
      ],
      "metadata": {
        "id": "0EoBrANGA8vJ"
      }
    },
    {
      "cell_type": "markdown",
      "source": [
        "Not Target Based"
      ],
      "metadata": {
        "id": "qhyqOlXBBGLa"
      }
    },
    {
      "cell_type": "code",
      "source": [
        "# Verileri yükle\n",
        "train_data = pd.read_csv('/content/drive/MyDrive/Yapay Zeka/Third Year/yaz/bil471 veri seti/train.csv')\n",
        "val_data = pd.read_csv('/content/drive/MyDrive/Yapay Zeka/Third Year/yaz/bil471 veri seti/val.csv')\n",
        "test_data = pd.read_csv('/content/drive/MyDrive/Yapay Zeka/Third Year/yaz/bil471 veri seti/test.csv')\n",
        "# Nefret içeren ve içermeyen tweet'lerin sayısını görselleştir\n",
        "plt.figure(figsize=(8, 6))\n",
        "ax = sns.countplot(x='label', data=train_data)\n",
        "ax.set_title('Distribution of Tweets')\n",
        "ax.set_xlabel('Category')\n",
        "ax.set_ylabel('Tweet Count')\n",
        "plt.xticks([0, 1], ['Non-Hate', 'Hate'])  # Etiket isimlerini belirtiniz\n",
        "plt.show()"
      ],
      "metadata": {
        "colab": {
          "base_uri": "https://localhost:8080/",
          "height": 564
        },
        "id": "GUACCO-ABA53",
        "outputId": "cc8d754c-69a4-4a5e-d832-ad5efe140f3f"
      },
      "execution_count": 2,
      "outputs": [
        {
          "output_type": "display_data",
          "data": {
            "text/plain": [
              "<Figure size 800x600 with 1 Axes>"
            ],
            "image/png": "[encoded data removed]"
          },
          "metadata": {}
        }
      ]
    },
    {
      "cell_type": "markdown",
      "source": [
        "Target Based"
      ],
      "metadata": {
        "id": "eKavBpR9BJn6"
      }
    },
    {
      "cell_type": "code",
      "source": [
        "# Verileri yükle\n",
        "targets = pd.read_csv('/content/drive/MyDrive/Yapay Zeka/Third Year/yaz/bil471 veri seti/target based/all_targets/target_all_other.csv')\n",
        "# Nefret içeren ve içermeyen tweet'lerin sayısını görselleştir\n",
        "plt.figure(figsize=(8, 6))\n",
        "ax = sns.countplot(x='label', data=targets)\n",
        "ax.set_title('Distribution of Tweets')\n",
        "ax.set_xlabel('Category')\n",
        "ax.set_ylabel('Tweet Count')\n",
        "plt.xticks([0, 1,2,3,4], ['Gender', 'Homophobic','Religious','Ethnic','Other'])  # Etiket isimlerini belirtiniz\n",
        "plt.show()"
      ],
      "metadata": {
        "colab": {
          "base_uri": "https://localhost:8080/",
          "height": 564
        },
        "id": "JJmQHCw6BK9i",
        "outputId": "93f0131e-4798-4256-c04c-cb576cc95eb5"
      },
      "execution_count": 3,
      "outputs": [
        {
          "output_type": "display_data",
          "data": {
            "text/plain": [
              "<Figure size 800x600 with 1 Axes>"
            ],
            "image/png": "[encoded data removed]"
          },
          "metadata": {}
        }
      ]
    },
    {
      "cell_type": "markdown",
      "source": [
        "# **Load model and tokenizer**"
      ],
      "metadata": {
        "id": "tMbaL1nRBxx5"
      }
    },
    {
      "cell_type": "markdown",
      "source": [
        "Not Target Based"
      ],
      "metadata": {
        "id": "78IB3vkRDf35"
      }
    },
    {
      "cell_type": "code",
      "source": [
        "# Model ve tokenizer'ı yükleyin\n",
        "model = BertForSequenceClassification.from_pretrained('/content/drive/MyDrive/Yapay Zeka/Third Year/yaz/bil471 veri seti/HateSpeech/model')\n",
        "# tokenizer'ı yükleyin\n",
        "model_name = \"dbmdz/bert-base-turkish-uncased\"\n",
        "tokenizer = BertTokenizer.from_pretrained(model_name)\n",
        "\n",
        "# Cihaza taşıyın\n",
        "device = torch.device(\"cuda\" if torch.cuda.is_available() else \"cpu\")\n",
        "model.to(device)\n",
        "model.eval()"
      ],
      "metadata": {
        "colab": {
          "base_uri": "https://localhost:8080/",
          "height": 998,
          "referenced_widgets": [
            "685171c566eb44b0b2c0e18b822ee949",
            "ef742803fa5447c3977666988a1aef79",
            "aec3b6e3ab7f4bd98a8b68c891b39185",
            "e53b2a7d01f6404bb15499f94d98dc09",
            "15a82ef0b0df40b98c265330972c0da4",
            "f9fc288ae8aa41ed9631a6de666aace7",
            "66b0b646fb154c9ca107d58a5cbf51bc",
            "e1dcab1b3c5a48b78e1d5d49d80f5937",
            "548de0800b014435bd72d9c15cebca82",
            "db8b552e1d274b5faf9a6b8d7d677e19",
            "8b9de5ba94c24a669911d66c54885c4e",
            "ff5873b9502d4f498dca99df28deb594",
            "d8fdc2b8c0e947a19c25120be6eafa44",
            "f952eafb2c30466e8b6b354435f9f795",
            "c8e596a80cfd412ea317d0a1166a23fe",
            "bd1abcbde98848f2a2758f935e0564cd",
            "01371a6c823147d389cec071a3bdcb56",
            "6753e254efb648199dd2ae01a7c8a3da",
            "d2dfc0510e9a41d5a5713b4aed951bc6",
            "3de090de5ac74a6187244243ed958d59",
            "944a203dc358430bb66bb655b57ae79c",
            "bea8b5d6679a4979bc24f5c6bd950dc9",
            "d5daf5f8347941eebad5f5d6f5e6c76e",
            "05ca5c94715c44cdbcab67c3aa8af87c",
            "a9472a7b55d2477abf1bfd2d7eb6798d",
            "46bf2dd602a341f2834bcde388e1c374",
            "7e3e4516050b4019b792a4d0a95b52d2",
            "827bb5bce98f4760bf09cf75f96bd006",
            "f00c815af5af40faa3bff5edff412fef",
            "f22d85331d004633bcd32fb0f0b6b838",
            "48e9f3108c514c42a0692b915db79a48",
            "941e81acbabe4028a5b17445812fbcfa",
            "e6c02ed1f93b49bcadffa9d93b030d95"
          ]
        },
        "id": "9xh6cz5FDfnB",
        "outputId": "356555a2-5a92-4bff-d822-10143fe2c997"
      },
      "execution_count": 4,
      "outputs": [
        {
          "output_type": "stream",
          "name": "stderr",
          "text": [
            "/usr/local/lib/python3.10/dist-packages/huggingface_hub/utils/_token.py:89: UserWarning: \n",
            "The secret `HF_TOKEN` does not exist in your Colab secrets.\n",
            "To authenticate with the Hugging Face Hub, create a token in your settings tab (https://huggingface.co/settings/tokens), set it as secret in your Google Colab and restart your session.\n",
            "You will be able to reuse this secret in all of your notebooks.\n",
            "Please note that authentication is recommended but still optional to access public models or datasets.\n",
            "  warnings.warn(\n"
          ]
        },
        {
          "output_type": "display_data",
          "data": {
            "text/plain": [
              "tokenizer_config.json:   0%|          | 0.00/59.0 [00:00<?, ?B/s]"
            ],
            "application/vnd.jupyter.widget-view+json": {
              "version_major": 2,
              "version_minor": 0,
              "model_id": "685171c566eb44b0b2c0e18b822ee949"
            }
          },
          "metadata": {}
        },
        {
          "output_type": "display_data",
          "data": {
            "text/plain": [
              "vocab.txt:   0%|          | 0.00/263k [00:00<?, ?B/s]"
            ],
            "application/vnd.jupyter.widget-view+json": {
              "version_major": 2,
              "version_minor": 0,
              "model_id": "ff5873b9502d4f498dca99df28deb594"
            }
          },
          "metadata": {}
        },
        {
          "output_type": "display_data",
          "data": {
            "text/plain": [
              "config.json:   0%|          | 0.00/385 [00:00<?, ?B/s]"
            ],
            "application/vnd.jupyter.widget-view+json": {
              "version_major": 2,
              "version_minor": 0,
              "model_id": "d5daf5f8347941eebad5f5d6f5e6c76e"
            }
          },
          "metadata": {}
        },
        {
          "output_type": "execute_result",
          "data": {
            "text/plain": [
              "BertForSequenceClassification(\n",
              "  (bert): BertModel(\n",
              "    (embeddings): BertEmbeddings(\n",
              "      (word_embeddings): Embedding(32000, 768, padding_idx=0)\n",
              "      (position_embeddings): Embedding(512, 768)\n",
              "      (token_type_embeddings): Embedding(2, 768)\n",
              "      (LayerNorm): LayerNorm((768,), eps=1e-12, elementwise_affine=True)\n",
              "      (dropout): Dropout(p=0.1, inplace=False)\n",
              "    )\n",
              "    (encoder): BertEncoder(\n",
              "      (layer): ModuleList(\n",
              "        (0-11): 12 x BertLayer(\n",
              "          (attention): BertAttention(\n",
              "            (self): BertSdpaSelfAttention(\n",
              "              (query): Linear(in_features=768, out_features=768, bias=True)\n",
              "              (key): Linear(in_features=768, out_features=768, bias=True)\n",
              "              (value): Linear(in_features=768, out_features=768, bias=True)\n",
              "              (dropout): Dropout(p=0.1, inplace=False)\n",
              "            )\n",
              "            (output): BertSelfOutput(\n",
              "              (dense): Linear(in_features=768, out_features=768, bias=True)\n",
              "              (LayerNorm): LayerNorm((768,), eps=1e-12, elementwise_affine=True)\n",
              "              (dropout): Dropout(p=0.1, inplace=False)\n",
              "            )\n",
              "          )\n",
              "          (intermediate): BertIntermediate(\n",
              "            (dense): Linear(in_features=768, out_features=3072, bias=True)\n",
              "            (intermediate_act_fn): GELUActivation()\n",
              "          )\n",
              "          (output): BertOutput(\n",
              "            (dense): Linear(in_features=3072, out_features=768, bias=True)\n",
              "            (LayerNorm): LayerNorm((768,), eps=1e-12, elementwise_affine=True)\n",
              "            (dropout): Dropout(p=0.1, inplace=False)\n",
              "          )\n",
              "        )\n",
              "      )\n",
              "    )\n",
              "    (pooler): BertPooler(\n",
              "      (dense): Linear(in_features=768, out_features=768, bias=True)\n",
              "      (activation): Tanh()\n",
              "    )\n",
              "  )\n",
              "  (dropout): Dropout(p=0.1, inplace=False)\n",
              "  (classifier): Linear(in_features=768, out_features=2, bias=True)\n",
              ")"
            ]
          },
          "metadata": {},
          "execution_count": 4
        }
      ]
    },
    {
      "cell_type": "markdown",
      "source": [
        "Target Based"
      ],
      "metadata": {
        "id": "q2CQ8Fw_DfUi"
      }
    },
    {
      "cell_type": "code",
      "source": [
        "# Model ve tokenizer'ı yükleyin\n",
        "model_target = BertForSequenceClassification.from_pretrained('/content/drive/MyDrive/Yapay Zeka/Third Year/yaz/bil471 veri seti/target_based_model/target_model_all')\n",
        "tokenizer_target = BertTokenizer.from_pretrained('/content/drive/MyDrive/Yapay Zeka/Third Year/yaz/bil471 veri seti/target_based_model/target_tokenizer_all')\n",
        "\n",
        "# Cihaza taşıyın\n",
        "device = torch.device(\"cuda\" if torch.cuda.is_available() else \"cpu\")\n",
        "model_target.to(device)\n",
        "model_target.eval()\n"
      ],
      "metadata": {
        "colab": {
          "base_uri": "https://localhost:8080/"
        },
        "id": "2o5_1LewB0U_",
        "outputId": "8b6876c1-ed88-4933-aa84-254e04a5668a"
      },
      "execution_count": 5,
      "outputs": [
        {
          "output_type": "execute_result",
          "data": {
            "text/plain": [
              "BertForSequenceClassification(\n",
              "  (bert): BertModel(\n",
              "    (embeddings): BertEmbeddings(\n",
              "      (word_embeddings): Embedding(32000, 768, padding_idx=0)\n",
              "      (position_embeddings): Embedding(512, 768)\n",
              "      (token_type_embeddings): Embedding(2, 768)\n",
              "      (LayerNorm): LayerNorm((768,), eps=1e-12, elementwise_affine=True)\n",
              "      (dropout): Dropout(p=0.1, inplace=False)\n",
              "    )\n",
              "    (encoder): BertEncoder(\n",
              "      (layer): ModuleList(\n",
              "        (0-11): 12 x BertLayer(\n",
              "          (attention): BertAttention(\n",
              "            (self): BertSdpaSelfAttention(\n",
              "              (query): Linear(in_features=768, out_features=768, bias=True)\n",
              "              (key): Linear(in_features=768, out_features=768, bias=True)\n",
              "              (value): Linear(in_features=768, out_features=768, bias=True)\n",
              "              (dropout): Dropout(p=0.1, inplace=False)\n",
              "            )\n",
              "            (output): BertSelfOutput(\n",
              "              (dense): Linear(in_features=768, out_features=768, bias=True)\n",
              "              (LayerNorm): LayerNorm((768,), eps=1e-12, elementwise_affine=True)\n",
              "              (dropout): Dropout(p=0.1, inplace=False)\n",
              "            )\n",
              "          )\n",
              "          (intermediate): BertIntermediate(\n",
              "            (dense): Linear(in_features=768, out_features=3072, bias=True)\n",
              "            (intermediate_act_fn): GELUActivation()\n",
              "          )\n",
              "          (output): BertOutput(\n",
              "            (dense): Linear(in_features=3072, out_features=768, bias=True)\n",
              "            (LayerNorm): LayerNorm((768,), eps=1e-12, elementwise_affine=True)\n",
              "            (dropout): Dropout(p=0.1, inplace=False)\n",
              "          )\n",
              "        )\n",
              "      )\n",
              "    )\n",
              "    (pooler): BertPooler(\n",
              "      (dense): Linear(in_features=768, out_features=768, bias=True)\n",
              "      (activation): Tanh()\n",
              "    )\n",
              "  )\n",
              "  (dropout): Dropout(p=0.1, inplace=False)\n",
              "  (classifier): Linear(in_features=768, out_features=5, bias=True)\n",
              ")"
            ]
          },
          "metadata": {},
          "execution_count": 5
        }
      ]
    },
    {
      "cell_type": "markdown",
      "source": [
        "# **Normalization before testing**"
      ],
      "metadata": {
        "id": "6DIQ-1I-BSv4"
      }
    },
    {
      "cell_type": "code",
      "source": [
        "import re\n",
        "\n",
        "def normalize_text(text):\n",
        "    #Kullanıcı adlarını kaldırır\n",
        "    #text = re.sub(r'([@][A-Za-z0-9_]+)|(\\w+:\\/\\/\\S+)','', text)\n",
        "\n",
        "    text = re.sub(r'@\\w+', '', text)\n",
        "    # Tüm harfleri küçük harfe çevir (uncased model kullanılıyorsa)\n",
        "    text = text.lower()\n",
        "\n",
        "    # URL'leri kaldır\n",
        "    text = re.sub(r'http\\S+|www\\S+|https\\S+', '', text, flags=re.MULTILINE)\n",
        "\n",
        "    # HTML etiketlerini kaldır\n",
        "    text = re.sub(r'<.*?>', '', text)\n",
        "\n",
        "    # Noktalama işaretleri dışındaki özel karakterleri kaldır\n",
        "    text = re.sub(r'[^a-zA-Z0-9ığüşöçİĞÜŞÖÇ\\s]', '', text)\n",
        "\n",
        "    # Ekstra boşlukları kaldır\n",
        "    text = re.sub(r'\\s+', ' ', text).strip()\n",
        "\n",
        "\n",
        "    #Remove emojis\n",
        "    emoji_pattern = re.compile(\"[\"\n",
        "        u\"\\U0001F600-\\U0001F64F\"  # emoticons\n",
        "        u\"\\U0001F300-\\U0001F5FF\"  # symbols & pictographs\n",
        "        u\"\\U0001F680-\\U0001F6FF\"  # transport & map symbols\n",
        "        u\"\\U0001F1E0-\\U0001F1FF\"  # flags (iOS)\n",
        "        u\"\\U00002500-\\U00002BEF\"  # chinese char\n",
        "        u\"\\U00002702-\\U000027B0\"\n",
        "        u\"\\U00002702-\\U000027B0\"\n",
        "        u\"\\U000024C2-\\U0001F251\"\n",
        "        u\"\\U0001f926-\\U0001f937\"\n",
        "        u\"\\U00010000-\\U0010ffff\"\n",
        "        u\"\\u2640-\\u2642\"\n",
        "        u\"\\u2600-\\u2B55\"\n",
        "        u\"\\u200d\"\n",
        "        u\"\\u23cf\"\n",
        "        u\"\\u23e9\"\n",
        "        u\"\\u231a\"\n",
        "        u\"\\ufe0f\"  # dingbats\n",
        "        u\"\\u3030\"\n",
        "                      \"]+\", re.UNICODE)\n",
        "    emoji_pattern.sub(r' ', text)\n",
        "\n",
        "    return text"
      ],
      "metadata": {
        "id": "ji_UT6Z5BbzI"
      },
      "execution_count": 6,
      "outputs": []
    },
    {
      "cell_type": "markdown",
      "source": [
        "Write the test texts here"
      ],
      "metadata": {
        "id": "t8ULW3CcBeYz"
      }
    },
    {
      "cell_type": "code",
      "source": [
        "# Girdi metin\n",
        "texts =[\"🤢 LGBT bireyler toplumun pisliğidir! Onları toplumdan dışlamalıyız! 🌈🚫 #NoToLGBT\",\n",
        "        \"🙄 Müslümanlar bu ülkeyi mahvediyor. Onların dini inançları yüzünden geri kalıyoruz. 🕌🚫 #Ateizm\",\n",
        "        \"🤬 Kürtler bu ülkede gereksiz. Hepsi terörist! 🇹🇷🚫 #TeröristKürtler\",\n",
        "        \"😡 Ermeniler bu topraklardan defolup gitmeli! Onlara burada yer yok. 🏞️🚫 #ErmenilereHayır\",\n",
        "        \"🤮 Yaşlılar sokaklara çıkmasın. Evde oturup ölümü beklesinler! Amına koyduğumun yaşlıları! 👵🚫 #YaşlılaraHayır\",\n",
        "        \"😤 TikTok dansı yapan herkes saçmalıyor. Bu aptallığa son verilmeli! Sikerim dansınızı! 📱🚫 #TikTokDansıYasaklansın\",\n",
        "        \"Kadınların iş gücüne katılımı toplumsal gelişim için çok önemli. 💪👩‍💼 #Eşitlik\",\n",
        "        \"Herkesin kimliğine saygı göstermeliyiz. Sevgi her zaman kazanır. 🌈❤️ #LGBTQ\",\n",
        "        \"🤮 Evde oturup çocuk bakın, iş hayatı size göre değil! Amınıza koyayım, işleri zorlaştırıyorsunuz! 🏠❌ #KadınlarEvdeKalsın\",\n",
        "        \"🤬 Kadınlar teknikte ne anlar? Sikerim teknik bilgilerini! 💻🚫 #KadınTeknisyenOlmasın\",\n",
        "        \"😠 Yunanlar tarih boyunca hainlik yaptı. Sikerim sizin dostluğunuzu! 🇬🇷❌ #YunanDüşmanlığı\",\n",
        "        \"🤬 Araplar bu ülkeye zarar veriyor. Hepsini anasını sikeyim, defolun! 🇸🇦🚫 #AraplarDefolsun\",\n",
        "        \"🤬 Kafirler yüzünden ahlak çöktü. Amınıza koyayım, defolun! 🕌❌ #KafirlereHayır\",\n",
        "        \"🤮 Hristiyan bayramlarını kutlayanlar gavurdur. Amınıza koyayım, burada kutlamayın! 🎄❌ #GavurBayramınaHayır\",\n",
        "        \"🤬 Gayler yüzünden toplum bozuldu. Amınıza koyayım, defolun! 🏳️‍🌈❌ #GaylereGeçitYok\",\n",
        "        \"😠 Eşcinsellerin hakları falan yok. İbne sürüsü defolup gitsin! 🚫🏳️‍🌈 #EşcinsellereHayır\"]\n",
        "non_target_labels = [1,1,1,1,1,1,0,0,1,1,1,1,1,1,1,1]\n",
        "target_labels =     [1,2,3,3,4,4,4,4,0,0,3,3,2,2,1,1]\n",
        "\n",
        "\n",
        "# Normalizasyonu uygulayın\n",
        "normalized_texts = [normalize_text(text) for text in texts]\n",
        "normalized_texts"
      ],
      "metadata": {
        "colab": {
          "base_uri": "https://localhost:8080/"
        },
        "id": "vDY1gR-0Bd3s",
        "outputId": "61c7d387-d11e-4642-bd23-2d2ff6733989"
      },
      "execution_count": 7,
      "outputs": [
        {
          "output_type": "execute_result",
          "data": {
            "text/plain": [
              "['lgbt bireyler toplumun pisliğidir onları toplumdan dışlamalıyız notolgbt',\n",
              " 'müslümanlar bu ülkeyi mahvediyor onların dini inançları yüzünden geri kalıyoruz ateizm',\n",
              " 'kürtler bu ülkede gereksiz hepsi terörist teröristkürtler',\n",
              " 'ermeniler bu topraklardan defolup gitmeli onlara burada yer yok ermenilerehayır',\n",
              " 'yaşlılar sokaklara çıkmasın evde oturup ölümü beklesinler amına koyduğumun yaşlıları yaşlılarahayır',\n",
              " 'tiktok dansı yapan herkes saçmalıyor bu aptallığa son verilmeli sikerim dansınızı tiktokdansıyasaklansın',\n",
              " 'kadınların iş gücüne katılımı toplumsal gelişim için çok önemli eşitlik',\n",
              " 'herkesin kimliğine saygı göstermeliyiz sevgi her zaman kazanır lgbtq',\n",
              " 'evde oturup çocuk bakın iş hayatı size göre değil amınıza koyayım işleri zorlaştırıyorsunuz kadınlarevdekalsın',\n",
              " 'kadınlar teknikte ne anlar sikerim teknik bilgilerini kadınteknisyenolmasın',\n",
              " 'yunanlar tarih boyunca hainlik yaptı sikerim sizin dostluğunuzu yunandüşmanlığı',\n",
              " 'araplar bu ülkeye zarar veriyor hepsini anasını sikeyim defolun araplardefolsun',\n",
              " 'kafirler yüzünden ahlak çöktü amınıza koyayım defolun kafirlerehayır',\n",
              " 'hristiyan bayramlarını kutlayanlar gavurdur amınıza koyayım burada kutlamayın gavurbayramınahayır',\n",
              " 'gayler yüzünden toplum bozuldu amınıza koyayım defolun gayleregeçityok',\n",
              " 'eşcinsellerin hakları falan yok ibne sürüsü defolup gitsin eşcinsellerehayır']"
            ]
          },
          "metadata": {},
          "execution_count": 7
        }
      ]
    },
    {
      "cell_type": "markdown",
      "source": [
        "# **Start with hate speech detection only**"
      ],
      "metadata": {
        "id": "Pism27y7G-kZ"
      }
    },
    {
      "cell_type": "code",
      "source": [
        "# Tokenize edin\n",
        "inputs = tokenizer(normalized_texts, return_tensors=\"pt\", padding=True, truncation=True, max_length=512)\n",
        "\n",
        "# Veriyi cihaza taşıyın\n",
        "inputs = {key: val.to(device) for key, val in inputs.items()}\n",
        "\n",
        "# Modeli kullanarak tahmin yapın\n",
        "with torch.no_grad():\n",
        "    outputs = model(**inputs)\n",
        "\n",
        "# Çıktıları işleyin\n",
        "logits = outputs.logits\n",
        "predicted_class_ids = torch.argmax(logits, dim=1).tolist()\n",
        "\n",
        "# Modelin sınıf etiketlerini tanımlayın\n",
        "label_map = {0: \"non-hate\", 1: \"hate\"}  # Bu haritayı modelinize göre ayarlayın\n",
        "\n",
        "predicted_labels = [label_map[id] for id in predicted_class_ids]\n",
        "\n",
        "# Sonuçları yazdırın\n",
        "for text, label in zip(normalized_texts, predicted_labels):\n",
        "    print(f\"Metin: '{text}'\")\n",
        "    print(f\"Model Tahmini: {label} \\n\")"
      ],
      "metadata": {
        "colab": {
          "base_uri": "https://localhost:8080/"
        },
        "id": "M4cUUZaiHDgu",
        "outputId": "e8686558-4665-45b6-ddf7-4cdf3d6fadee"
      },
      "execution_count": 8,
      "outputs": [
        {
          "output_type": "stream",
          "name": "stdout",
          "text": [
            "Metin: 'lgbt bireyler toplumun pisliğidir onları toplumdan dışlamalıyız notolgbt'\n",
            "Model Tahmini: hate \n",
            "\n",
            "Metin: 'müslümanlar bu ülkeyi mahvediyor onların dini inançları yüzünden geri kalıyoruz ateizm'\n",
            "Model Tahmini: hate \n",
            "\n",
            "Metin: 'kürtler bu ülkede gereksiz hepsi terörist teröristkürtler'\n",
            "Model Tahmini: hate \n",
            "\n",
            "Metin: 'ermeniler bu topraklardan defolup gitmeli onlara burada yer yok ermenilerehayır'\n",
            "Model Tahmini: hate \n",
            "\n",
            "Metin: 'yaşlılar sokaklara çıkmasın evde oturup ölümü beklesinler amına koyduğumun yaşlıları yaşlılarahayır'\n",
            "Model Tahmini: hate \n",
            "\n",
            "Metin: 'tiktok dansı yapan herkes saçmalıyor bu aptallığa son verilmeli sikerim dansınızı tiktokdansıyasaklansın'\n",
            "Model Tahmini: hate \n",
            "\n",
            "Metin: 'kadınların iş gücüne katılımı toplumsal gelişim için çok önemli eşitlik'\n",
            "Model Tahmini: non-hate \n",
            "\n",
            "Metin: 'herkesin kimliğine saygı göstermeliyiz sevgi her zaman kazanır lgbtq'\n",
            "Model Tahmini: non-hate \n",
            "\n",
            "Metin: 'evde oturup çocuk bakın iş hayatı size göre değil amınıza koyayım işleri zorlaştırıyorsunuz kadınlarevdekalsın'\n",
            "Model Tahmini: hate \n",
            "\n",
            "Metin: 'kadınlar teknikte ne anlar sikerim teknik bilgilerini kadınteknisyenolmasın'\n",
            "Model Tahmini: hate \n",
            "\n",
            "Metin: 'yunanlar tarih boyunca hainlik yaptı sikerim sizin dostluğunuzu yunandüşmanlığı'\n",
            "Model Tahmini: hate \n",
            "\n",
            "Metin: 'araplar bu ülkeye zarar veriyor hepsini anasını sikeyim defolun araplardefolsun'\n",
            "Model Tahmini: hate \n",
            "\n",
            "Metin: 'kafirler yüzünden ahlak çöktü amınıza koyayım defolun kafirlerehayır'\n",
            "Model Tahmini: hate \n",
            "\n",
            "Metin: 'hristiyan bayramlarını kutlayanlar gavurdur amınıza koyayım burada kutlamayın gavurbayramınahayır'\n",
            "Model Tahmini: hate \n",
            "\n",
            "Metin: 'gayler yüzünden toplum bozuldu amınıza koyayım defolun gayleregeçityok'\n",
            "Model Tahmini: hate \n",
            "\n",
            "Metin: 'eşcinsellerin hakları falan yok ibne sürüsü defolup gitsin eşcinsellerehayır'\n",
            "Model Tahmini: hate \n",
            "\n"
          ]
        }
      ]
    },
    {
      "cell_type": "markdown",
      "source": [
        "# **Then if hate find the target**"
      ],
      "metadata": {
        "id": "aiHf9hJSHW7O"
      }
    },
    {
      "cell_type": "code",
      "source": [
        "for text, predicted_label in zip(normalized_texts, predicted_labels):\n",
        "    if predicted_label == \"hate\":\n",
        "      # Tokenize edin\n",
        "      inputs = tokenizer_target(text, return_tensors=\"pt\", padding=True, truncation=True, max_length=512)\n",
        "\n",
        "      # Veriyi cihaza taşıyın\n",
        "      inputs = {key: val.to(device) for key, val in inputs.items()}\n",
        "\n",
        "      # Modeli kullanarak tahmin yapın\n",
        "      with torch.no_grad():\n",
        "          outputs = model_target(**inputs)\n",
        "\n",
        "      # Çıktıları işleyin\n",
        "      logits = outputs.logits\n",
        "      predicted_class_id = torch.argmax(logits, dim=1).item()\n",
        "\n",
        "      # Modelin sınıf etiketlerini tanımlayın\n",
        "      label_map = {0: \"gender\", 1: \"homophobic\", 2: \"Religious\", 3: \"Ethnic\",4: \"Other\"}  # Bu haritayı modelinize göre ayarlayın\n",
        "\n",
        "      predicted_label = label_map[predicted_class_id]\n",
        "\n",
        "      print(f\"Metin: '{text}'\")\n",
        "      print(f\"Model Tahmini: {predicted_label}\\n\")\n",
        "    else:\n",
        "      print(\"Not Hate\\n\")"
      ],
      "metadata": {
        "colab": {
          "base_uri": "https://localhost:8080/"
        },
        "id": "sUmpp6swHcOl",
        "outputId": "ded49613-e20b-4f4c-8e4f-f610aed39120"
      },
      "execution_count": 9,
      "outputs": [
        {
          "output_type": "stream",
          "name": "stdout",
          "text": [
            "Metin: 'lgbt bireyler toplumun pisliğidir onları toplumdan dışlamalıyız notolgbt'\n",
            "Model Tahmini: homophobic\n",
            "\n",
            "Metin: 'müslümanlar bu ülkeyi mahvediyor onların dini inançları yüzünden geri kalıyoruz ateizm'\n",
            "Model Tahmini: Religious\n",
            "\n",
            "Metin: 'kürtler bu ülkede gereksiz hepsi terörist teröristkürtler'\n",
            "Model Tahmini: Ethnic\n",
            "\n",
            "Metin: 'ermeniler bu topraklardan defolup gitmeli onlara burada yer yok ermenilerehayır'\n",
            "Model Tahmini: Ethnic\n",
            "\n",
            "Metin: 'yaşlılar sokaklara çıkmasın evde oturup ölümü beklesinler amına koyduğumun yaşlıları yaşlılarahayır'\n",
            "Model Tahmini: Other\n",
            "\n",
            "Metin: 'tiktok dansı yapan herkes saçmalıyor bu aptallığa son verilmeli sikerim dansınızı tiktokdansıyasaklansın'\n",
            "Model Tahmini: Other\n",
            "\n",
            "Not Hate\n",
            "\n",
            "Not Hate\n",
            "\n",
            "Metin: 'evde oturup çocuk bakın iş hayatı size göre değil amınıza koyayım işleri zorlaştırıyorsunuz kadınlarevdekalsın'\n",
            "Model Tahmini: gender\n",
            "\n",
            "Metin: 'kadınlar teknikte ne anlar sikerim teknik bilgilerini kadınteknisyenolmasın'\n",
            "Model Tahmini: gender\n",
            "\n",
            "Metin: 'yunanlar tarih boyunca hainlik yaptı sikerim sizin dostluğunuzu yunandüşmanlığı'\n",
            "Model Tahmini: Religious\n",
            "\n",
            "Metin: 'araplar bu ülkeye zarar veriyor hepsini anasını sikeyim defolun araplardefolsun'\n",
            "Model Tahmini: Ethnic\n",
            "\n",
            "Metin: 'kafirler yüzünden ahlak çöktü amınıza koyayım defolun kafirlerehayır'\n",
            "Model Tahmini: Religious\n",
            "\n",
            "Metin: 'hristiyan bayramlarını kutlayanlar gavurdur amınıza koyayım burada kutlamayın gavurbayramınahayır'\n",
            "Model Tahmini: Religious\n",
            "\n",
            "Metin: 'gayler yüzünden toplum bozuldu amınıza koyayım defolun gayleregeçityok'\n",
            "Model Tahmini: homophobic\n",
            "\n",
            "Metin: 'eşcinsellerin hakları falan yok ibne sürüsü defolup gitsin eşcinsellerehayır'\n",
            "Model Tahmini: homophobic\n",
            "\n"
          ]
        }
      ]
    }
  ]
}